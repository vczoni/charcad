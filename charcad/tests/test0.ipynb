{
 "cells": [
  {
   "cell_type": "code",
   "execution_count": 1,
   "metadata": {},
   "outputs": [],
   "source": [
    "import numpy as np\n",
    "import math\n",
    "import sys\n",
    "sys.path.append('../../')\n",
    "\n",
    "from charcad import *\n",
    "from charcad.draw.utils import calc_angle, calc_distance\n",
    "from charcad.draw.vector import Vector\n",
    "from charcad.draw.route import *"
   ]
  },
  {
   "cell_type": "code",
   "execution_count": 2,
   "metadata": {},
   "outputs": [],
   "source": [
    "def normalize(vector, limits):\n",
    "    for i, item in enumerate(vector):\n",
    "        vector[i] = (vector[i] - limits[0])/(limits[1] - limits[0])\n",
    "    return vector"
   ]
  },
  {
   "cell_type": "code",
   "execution_count": 3,
   "metadata": {},
   "outputs": [
    {
     "data": {
      "text/plain": [
       "[0.2, 0.5, 0.1, 1.0]"
      ]
     },
     "execution_count": 3,
     "metadata": {},
     "output_type": "execute_result"
    }
   ],
   "source": [
    "l = [2, 5, 1, 10]\n",
    "normalize(l, (0, 10))"
   ]
  },
  {
   "cell_type": "code",
   "execution_count": 6,
   "metadata": {},
   "outputs": [
    {
     "name": "stdout",
     "output_type": "stream",
     "text": [
      "['self', (0, 180)]\n",
      "[0.3333333333333333, 0.6111111111111112, 0.2777777777777778, 1.0555555555555556]\n",
      "1.0555555555555556\n"
     ]
    }
   ],
   "source": [
    "l2 = [40, 30, 50, 10]\n",
    "i = normalize_and_compare([l, l2], ['self', (0, 180)], 'max')"
   ]
  },
  {
   "cell_type": "code",
   "execution_count": 8,
   "metadata": {},
   "outputs": [
    {
     "data": {
      "text/plain": [
       "[0.3333333333333333,\n",
       " 0.6111111111111112,\n",
       " 0.2777777777777778,\n",
       " 1.0555555555555556]"
      ]
     },
     "execution_count": 8,
     "metadata": {},
     "output_type": "execute_result"
    }
   ],
   "source": [
    "s"
   ]
  },
  {
   "cell_type": "code",
   "execution_count": null,
   "metadata": {},
   "outputs": [],
   "source": [
    "s.index(min(s))"
   ]
  },
  {
   "cell_type": "code",
   "execution_count": 6,
   "metadata": {},
   "outputs": [
    {
     "name": "stdout",
     "output_type": "stream",
     "text": [
      "0\n",
      "[0.11111111111111112, 0.4444444444444445, 0.0, 1.0]\n",
      "(0, 3)\n",
      "1\n",
      "['a', 'b', 'c', 'd', 'e']\n",
      "self\n"
     ]
    }
   ],
   "source": [
    "l2 = ['a', 'b', 'c', 'd', 'e']\n",
    "\n",
    "vectors = [l, l2]\n",
    "limits = [(0, 3), 'self']\n",
    "for i, x in enumerate(zip(vectors, limits)):\n",
    "    print(i)\n",
    "    print(x[0])\n",
    "    print(x[1])"
   ]
  },
  {
   "cell_type": "code",
   "execution_count": 2,
   "metadata": {},
   "outputs": [],
   "source": [
    "def printlst(lst):\n",
    "    for s in lst:\n",
    "        print(s)"
   ]
  },
  {
   "cell_type": "code",
   "execution_count": 21,
   "metadata": {},
   "outputs": [
    {
     "data": {
      "text/plain": [
       "'\"ttreed\"'"
      ]
     },
     "execution_count": 21,
     "metadata": {},
     "output_type": "execute_result"
    }
   ],
   "source": [
    "a = 'ttreed'\n",
    "a.join('\"\"')"
   ]
  },
  {
   "cell_type": "code",
   "execution_count": 5,
   "metadata": {},
   "outputs": [
    {
     "name": "stdout",
     "output_type": "stream",
     "text": [
      "9559\n",
      "┌─┬┐  ╔═╦╗  ╓─╥╖  ╒═╤╕\n",
      "│ ││  ║ ║║  ║ ║║  │ ││\n",
      "├─┼┤  ╠═╬╣  ╟─╫╢  ╞═╪╡\n",
      "└─┴┘  ╚═╩╝  ╙─╨╜  ╘═╧╛\n",
      "    ╱ v        \n",
      "  ─╱  ╳     ▓  \n",
      "   v ╱ ╲       \n",
      "     __╱    ▕▏ \n",
      "    ╱       ▕▏ \n",
      "___╱       ▏▕  \n",
      "9587\n"
     ]
    },
    {
     "data": {
      "text/plain": [
       "'╳'"
      ]
     },
     "execution_count": 5,
     "metadata": {},
     "output_type": "execute_result"
    }
   ],
   "source": [
    "c = [\n",
    "    '┌─┬┐  ╔═╦╗  ╓─╥╖  ╒═╤╕',\n",
    "    '│ ││  ║ ║║  ║ ║║  │ ││',\n",
    "    '├─┼┤  ╠═╬╣  ╟─╫╢  ╞═╪╡',\n",
    "    '└─┴┘  ╚═╩╝  ╙─╨╜  ╘═╧╛',\n",
    "]\n",
    "print(ord('╗'))\n",
    "\n",
    "c2 = [\n",
    "    '    ╱ v        ',\n",
    "    '  ─╱  ╳     ▓  ',\n",
    "    '   v ╱ ╲       ',\n",
    "    '     __╱    ▕▏ ',\n",
    "    '    ╱       ▕▏ ',\n",
    "    '___╱       ▏▕  ',\n",
    "]\n",
    "printlst(c)\n",
    "printlst(c2)\n",
    "print(ord('╳'))\n",
    "chr(9587)"
   ]
  },
  {
   "cell_type": "code",
   "execution_count": 19,
   "metadata": {},
   "outputs": [
    {
     "name": "stdout",
     "output_type": "stream",
     "text": [
      "10017\n",
      "✡\n"
     ]
    },
    {
     "data": {
      "text/plain": [
       "'✡'"
      ]
     },
     "execution_count": 19,
     "metadata": {},
     "output_type": "execute_result"
    }
   ],
   "source": [
    "print(ord('✡'))\n",
    "print('✡')\n",
    "chr(10017)"
   ]
  }
 ],
 "metadata": {
  "kernelspec": {
   "display_name": "Python 3",
   "language": "python",
   "name": "python3"
  },
  "language_info": {
   "codemirror_mode": {
    "name": "ipython",
    "version": 3
   },
   "file_extension": ".py",
   "mimetype": "text/x-python",
   "name": "python",
   "nbconvert_exporter": "python",
   "pygments_lexer": "ipython3",
   "version": "3.7.3"
  }
 },
 "nbformat": 4,
 "nbformat_minor": 2
}
