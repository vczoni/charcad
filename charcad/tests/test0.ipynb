{
 "cells": [
  {
   "cell_type": "code",
   "execution_count": 2,
   "metadata": {},
   "outputs": [],
   "source": [
    "def printlst(lst):\n",
    "    for s in lst:\n",
    "        print(s)"
   ]
  },
  {
   "cell_type": "code",
   "execution_count": 5,
   "metadata": {},
   "outputs": [
    {
     "name": "stdout",
     "output_type": "stream",
     "text": [
      "9559\n",
      "┌─┬┐  ╔═╦╗  ╓─╥╖  ╒═╤╕\n",
      "│ ││  ║ ║║  ║ ║║  │ ││\n",
      "├─┼┤  ╠═╬╣  ╟─╫╢  ╞═╪╡\n",
      "└─┴┘  ╚═╩╝  ╙─╨╜  ╘═╧╛\n",
      "    ╱ v        \n",
      "  ─╱  ╳     ▓  \n",
      "   v ╱ ╲       \n",
      "     __╱    ▕▏ \n",
      "    ╱       ▕▏ \n",
      "___╱       ▏▕  \n",
      "9587\n"
     ]
    },
    {
     "data": {
      "text/plain": [
       "'╳'"
      ]
     },
     "execution_count": 5,
     "metadata": {},
     "output_type": "execute_result"
    }
   ],
   "source": [
    "c = [\n",
    "    '┌─┬┐  ╔═╦╗  ╓─╥╖  ╒═╤╕',\n",
    "    '│ ││  ║ ║║  ║ ║║  │ ││',\n",
    "    '├─┼┤  ╠═╬╣  ╟─╫╢  ╞═╪╡',\n",
    "    '└─┴┘  ╚═╩╝  ╙─╨╜  ╘═╧╛',\n",
    "]\n",
    "print(ord('╗'))\n",
    "\n",
    "c2 = [\n",
    "    '    ╱ v        ',\n",
    "    '  ─╱  ╳     ▓  ',\n",
    "    '   v ╱ ╲       ',\n",
    "    '     __╱    ▕▏ ',\n",
    "    '    ╱       ▕▏ ',\n",
    "    '___╱       ▏▕  ',\n",
    "]\n",
    "printlst(c)\n",
    "printlst(c2)\n",
    "print(ord('╳'))\n",
    "chr(9587)"
   ]
  },
  {
   "cell_type": "code",
   "execution_count": 13,
   "metadata": {},
   "outputs": [],
   "source": [
    "class Canvas:\n",
    "    def __init__(self, w, h):\n",
    "        self.reset_graph(w, h)\n",
    "    \n",
    "    def reset_graph(self, w, h):\n",
    "        graph = []\n",
    "        grid = []\n",
    "        for r in range(h):\n",
    "            graph.append(' ' * w)\n",
    "            grid.append(list(range(w)))\n",
    "        self.graph = graph\n",
    "        self.grid = grid\n",
    "    \n",
    "    def drawline(self, x, y, w, h):\n",
    "        p1 = (x, y)\n",
    "        p2 = (x+w, y+h)\n",
    "        \n",
    "    \n",
    "    def show(self):\n",
    "        for r in self.graph:\n",
    "            print(r)"
   ]
  },
  {
   "cell_type": "code",
   "execution_count": 17,
   "metadata": {},
   "outputs": [],
   "source": [
    "cnv = Canvas(18, 6)"
   ]
  },
  {
   "cell_type": "code",
   "execution_count": 18,
   "metadata": {},
   "outputs": [
    {
     "data": {
      "text/plain": [
       "['                  ',\n",
       " '                  ',\n",
       " '                  ',\n",
       " '                  ',\n",
       " '                  ',\n",
       " '                  ']"
      ]
     },
     "execution_count": 18,
     "metadata": {},
     "output_type": "execute_result"
    }
   ],
   "source": [
    "cnv.graph"
   ]
  },
  {
   "cell_type": "code",
   "execution_count": 19,
   "metadata": {},
   "outputs": [
    {
     "name": "stdout",
     "output_type": "stream",
     "text": [
      "10017\n",
      "✡\n"
     ]
    },
    {
     "data": {
      "text/plain": [
       "'✡'"
      ]
     },
     "execution_count": 19,
     "metadata": {},
     "output_type": "execute_result"
    }
   ],
   "source": [
    "print(ord('✡'))\n",
    "print('✡')\n",
    "chr(10017)"
   ]
  },
  {
   "cell_type": "code",
   "execution_count": null,
   "metadata": {},
   "outputs": [],
   "source": [
    "\n"
   ]
  }
 ],
 "metadata": {
  "kernelspec": {
   "display_name": "Python 3",
   "language": "python",
   "name": "python3"
  },
  "language_info": {
   "codemirror_mode": {
    "name": "ipython",
    "version": 3
   },
   "file_extension": ".py",
   "mimetype": "text/x-python",
   "name": "python",
   "nbconvert_exporter": "python",
   "pygments_lexer": "ipython3",
   "version": "3.7.3"
  }
 },
 "nbformat": 4,
 "nbformat_minor": 2
}
