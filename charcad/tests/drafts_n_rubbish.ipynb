{
 "cells": [
  {
   "cell_type": "code",
   "execution_count": 1,
   "metadata": {},
   "outputs": [],
   "source": [
    "import sys\n",
    "sys.path.append('../../')\n",
    "\n",
    "import charcad as ch"
   ]
  },
  {
   "cell_type": "code",
   "execution_count": 2,
   "metadata": {},
   "outputs": [
    {
     "data": {
      "text/plain": [
       "'0.0.7'"
      ]
     },
     "execution_count": 2,
     "metadata": {},
     "output_type": "execute_result"
    }
   ],
   "source": [
    "ch.__version__"
   ]
  },
  {
   "cell_type": "markdown",
   "metadata": {},
   "source": [
    "# Drafts and Rubbish"
   ]
  },
  {
   "cell_type": "markdown",
   "metadata": {},
   "source": [
    "### Drawing a card"
   ]
  },
  {
   "cell_type": "code",
   "execution_count": 147,
   "metadata": {},
   "outputs": [],
   "source": [
    "card = ch.Block(13, 7)"
   ]
  },
  {
   "cell_type": "code",
   "execution_count": 164,
   "metadata": {},
   "outputs": [],
   "source": [
    "name = 'VIMYTH'\n",
    "faith_lvl = 14\n",
    "class_ = 'DIV'\n",
    "role = 'PST'\n",
    "element = 'ETH'\n",
    "power = 50\n",
    "at = 15\n",
    "df = 35"
   ]
  },
  {
   "cell_type": "code",
   "execution_count": 170,
   "metadata": {},
   "outputs": [],
   "source": [
    "fstats = ch.Formatter()\n",
    "fnum = ch.Formatter()\n",
    "fpow = ch.Formatter()\n",
    "fatt = ch.Formatter()\n",
    "fdef = ch.Formatter()\n",
    "fdefault = ch.Formatter()"
   ]
  },
  {
   "cell_type": "code",
   "execution_count": 191,
   "metadata": {},
   "outputs": [],
   "source": [
    "fstats.set_style.bold()\n",
    "fstats.set_color.purple()\n",
    "fstats.set_background_color.none()\n",
    "\n",
    "fnum.set_style.bold()\n",
    "fnum.set_color.red()\n",
    "fnum.set_background_color.black()\n",
    "\n",
    "fpow.set_style.bold()\n",
    "fpow.set_color.red()\n",
    "fpow.set_background_color.white()\n",
    "\n",
    "fatt.set_style.bold()\n",
    "fatt.set_color.red()\n",
    "\n",
    "fdef.set_style.bold()\n",
    "fdef.set_color.yellow()\n",
    "\n",
    "fdefault.set_style.bold()"
   ]
  },
  {
   "cell_type": "code",
   "execution_count": 192,
   "metadata": {},
   "outputs": [],
   "source": [
    "pic = ch.Block(11, 2, 1, 4)"
   ]
  },
  {
   "cell_type": "code",
   "execution_count": 193,
   "metadata": {},
   "outputs": [],
   "source": [
    "name_blk = ch.Text(4, 4, formatter=fnum, text=name)\n",
    "class_blk = ch.Text(2, 7, formatter=fdefault, text=class_)\n",
    "faith_blk = ch.Text(12, 8, formatter=fstats, text=str(faith_lvl))\n",
    "role_blk = ch.Text(1, 1, formatter=fdefault, text=role)\n",
    "element_blk = ch.Text(10, 7, formatter=fdefault, text=element)\n",
    "power_blk = ch.Text(6, 3, formatter=fpow, text=str(power))\n",
    "att_blk = ch.Text(9, 1, formatter=fatt, text=str(at))\n",
    "def_blk = ch.Text(12, 1, formatter=fdef, text=str(df))"
   ]
  },
  {
   "cell_type": "code",
   "execution_count": 194,
   "metadata": {},
   "outputs": [
    {
     "name": "stdout",
     "output_type": "stream",
     "text": [
      "8┌───────────\u001b[1;35;48m1\u001b[0m\u001b[1;35;48m4\u001b[0m┐\n",
      "7│┌\u001b[1;38;48mD\u001b[0m\u001b[1;38;48mI\u001b[0m\u001b[1;38;48mV\u001b[0m─────\u001b[1;38;48mE\u001b[0m\u001b[1;38;48mT\u001b[0m\u001b[1;38;48mH\u001b[0m┐│\n",
      "6││           ││\n",
      "5││           ││\n",
      "4│└──\u001b[1;31;40mV\u001b[0m\u001b[1;31;40mI\u001b[0m\u001b[1;31;40mM\u001b[0m\u001b[1;31;40mY\u001b[0m\u001b[1;31;40mT\u001b[0m\u001b[1;31;40mH\u001b[0m───┘│\n",
      "3│     \u001b[1;31;47m5\u001b[0m\u001b[1;31;47m0\u001b[0m      │\n",
      "2│             │\n",
      "1│\u001b[1;38;48mP\u001b[0m\u001b[1;38;48mS\u001b[0m\u001b[1;38;48mT\u001b[0m     \u001b[1;31;48m1\u001b[0m\u001b[1;31;48m5\u001b[0m \u001b[1;33;48m3\u001b[0m\u001b[1;33;48m5\u001b[0m│\n",
      "0└─────────────┘\n",
      " 012345678901234\n",
      " 0         1    \n"
     ]
    }
   ],
   "source": [
    "card.reset()\n",
    "card.add_object(pic)\n",
    "\n",
    "card.add_object(name_blk)\n",
    "card.add_object(class_blk)\n",
    "card.add_object(faith_blk)\n",
    "card.add_object(role_blk)\n",
    "card.add_object(element_blk)\n",
    "card.add_object(power_blk)\n",
    "card.add_object(att_blk)\n",
    "card.add_object(def_blk)\n",
    "\n",
    "card.show(1)"
   ]
  },
  {
   "cell_type": "code",
   "execution_count": 139,
   "metadata": {},
   "outputs": [],
   "source": [
    "pic.set_frame_formatter(fnum)"
   ]
  },
  {
   "cell_type": "code",
   "execution_count": 11,
   "metadata": {},
   "outputs": [],
   "source": [
    "name = ch.Text(5, 4, formatter=fstats, text='HADES')\n",
    "element = ch.Text(11, 8, formatter=fstats, text='ETH')\n",
    "power = ch.Text(12, 1, formatter=fstats, text='115')"
   ]
  },
  {
   "cell_type": "code",
   "execution_count": 12,
   "metadata": {},
   "outputs": [],
   "source": [
    "card.add_object(name)\n",
    "card.add_object(element)\n",
    "card.add_object(power)"
   ]
  },
  {
   "cell_type": "code",
   "execution_count": 13,
   "metadata": {},
   "outputs": [
    {
     "data": {
      "text/plain": [
       "Graphic Object Array[\n",
       "  0\tobject_0000: Point(0, 0, H),\n",
       "  1\tobject_0001: Point(1, 0, A),\n",
       "  2\tobject_0002: Point(2, 0, D),\n",
       "  3\tobject_0003: Point(3, 0, E),\n",
       "  4\tobject_0004: Point(4, 0, S)\n",
       "]"
      ]
     },
     "execution_count": 13,
     "metadata": {},
     "output_type": "execute_result"
    }
   ],
   "source": [
    "name.objects"
   ]
  },
  {
   "cell_type": "code",
   "execution_count": 14,
   "metadata": {},
   "outputs": [
    {
     "name": "stdout",
     "output_type": "stream",
     "text": [
      "8\u001b[1;35;43m┌\u001b[0m\u001b[1;35;43m─\u001b[0m\u001b[1;35;43m─\u001b[0m\u001b[1;35;43m─\u001b[0m\u001b[1;35;43m─\u001b[0m\u001b[1;35;43m─\u001b[0m\u001b[1;35;43m─\u001b[0m\u001b[1;35;43m─\u001b[0m\u001b[1;35;43m─\u001b[0m\u001b[1;35;43m─\u001b[0m\u001b[1;35;43m─\u001b[0m\u001b[1;35;43mE\u001b[0m\u001b[1;35;43mT\u001b[0m\u001b[1;35;43mH\u001b[0m\u001b[1;35;43m┐\u001b[0m\n",
      "7\u001b[1;35;43m│\u001b[0m\u001b[1;35;43m┌\u001b[0m\u001b[1;35;43m─\u001b[0m\u001b[1;35;43m─\u001b[0m\u001b[1;35;43m─\u001b[0m\u001b[1;35;43m─\u001b[0m\u001b[1;35;43m─\u001b[0m\u001b[1;35;43m─\u001b[0m\u001b[1;35;43m─\u001b[0m\u001b[1;35;43m─\u001b[0m\u001b[1;35;43m─\u001b[0m\u001b[1;35;43m─\u001b[0m\u001b[1;35;43m─\u001b[0m\u001b[1;35;43m┐\u001b[0m\u001b[1;35;43m│\u001b[0m\n",
      "6\u001b[1;35;43m│\u001b[0m\u001b[1;35;43m│\u001b[0m           \u001b[1;35;43m│\u001b[0m\u001b[1;35;43m│\u001b[0m\n",
      "5\u001b[1;35;43m│\u001b[0m\u001b[1;35;43m│\u001b[0m           \u001b[1;35;43m│\u001b[0m\u001b[1;35;43m│\u001b[0m\n",
      "4\u001b[1;35;43m│\u001b[0m\u001b[1;35;43m└\u001b[0m\u001b[1;35;43m─\u001b[0m\u001b[1;35;43m─\u001b[0m\u001b[1;35;43m─\u001b[0m\u001b[1;35;43mH\u001b[0m\u001b[1;35;43mA\u001b[0m\u001b[1;35;43mD\u001b[0m\u001b[1;35;43mE\u001b[0m\u001b[1;35;43mS\u001b[0m\u001b[1;35;43m─\u001b[0m\u001b[1;35;43m─\u001b[0m\u001b[1;35;43m─\u001b[0m\u001b[1;35;43m┘\u001b[0m\u001b[1;35;43m│\u001b[0m\n",
      "3\u001b[1;35;43m│\u001b[0m             \u001b[1;35;43m│\u001b[0m\n",
      "2\u001b[1;35;43m│\u001b[0m             \u001b[1;35;43m│\u001b[0m\n",
      "1\u001b[1;35;43m│\u001b[0m           \u001b[1;35;43m1\u001b[0m\u001b[1;35;43m1\u001b[0m\u001b[1;35;43m5\u001b[0m\n",
      "0\u001b[1;35;43m└\u001b[0m\u001b[1;35;43m─\u001b[0m\u001b[1;35;43m─\u001b[0m\u001b[1;35;43m─\u001b[0m\u001b[1;35;43m─\u001b[0m\u001b[1;35;43m─\u001b[0m\u001b[1;35;43m─\u001b[0m\u001b[1;35;43m─\u001b[0m\u001b[1;35;43m─\u001b[0m\u001b[1;35;43m─\u001b[0m\u001b[1;35;43m─\u001b[0m\u001b[1;35;43m─\u001b[0m\u001b[1;35;43m─\u001b[0m\u001b[1;35;43m─\u001b[0m\u001b[1;35;43m┘\u001b[0m\n",
      " 012345678901234\n",
      " 0         1    \n"
     ]
    }
   ],
   "source": [
    "card.show(1)"
   ]
  },
  {
   "cell_type": "code",
   "execution_count": 15,
   "metadata": {},
   "outputs": [
    {
     "data": {
      "text/plain": [
       "9"
      ]
     },
     "execution_count": 15,
     "metadata": {},
     "output_type": "execute_result"
    }
   ],
   "source": [
    "card.graph.h"
   ]
  },
  {
   "cell_type": "code",
   "execution_count": 16,
   "metadata": {},
   "outputs": [],
   "source": [
    "txt = [\n",
    "    'Hi',\n",
    "    'My Name Is',\n",
    "    'SLIM SHADY!!!'\n",
    "]\n",
    "t = ch.Text(0, 0, formatter=fstats, text=txt)"
   ]
  },
  {
   "cell_type": "code",
   "execution_count": 17,
   "metadata": {},
   "outputs": [],
   "source": [
    "t.align('center')"
   ]
  },
  {
   "cell_type": "code",
   "execution_count": 18,
   "metadata": {},
   "outputs": [
    {
     "data": {
      "text/plain": [
       "     \u001b[1;35;43mH\u001b[0m\u001b[1;35;43mi\u001b[0m      \n",
       " \u001b[1;35;43mM\u001b[0m\u001b[1;35;43my\u001b[0m\u001b[1;35;43m \u001b[0m\u001b[1;35;43mN\u001b[0m\u001b[1;35;43ma\u001b[0m\u001b[1;35;43mm\u001b[0m\u001b[1;35;43me\u001b[0m\u001b[1;35;43m \u001b[0m\u001b[1;35;43mI\u001b[0m\u001b[1;35;43ms\u001b[0m  \n",
       "\u001b[1;35;43mS\u001b[0m\u001b[1;35;43mL\u001b[0m\u001b[1;35;43mI\u001b[0m\u001b[1;35;43mM\u001b[0m\u001b[1;35;43m \u001b[0m\u001b[1;35;43mS\u001b[0m\u001b[1;35;43mH\u001b[0m\u001b[1;35;43mA\u001b[0m\u001b[1;35;43mD\u001b[0m\u001b[1;35;43mY\u001b[0m\u001b[1;35;43m!\u001b[0m\u001b[1;35;43m!\u001b[0m\u001b[1;35;43m!\u001b[0m"
      ]
     },
     "execution_count": 18,
     "metadata": {},
     "output_type": "execute_result"
    }
   ],
   "source": [
    "t.graph"
   ]
  },
  {
   "cell_type": "code",
   "execution_count": null,
   "metadata": {},
   "outputs": [],
   "source": []
  },
  {
   "cell_type": "code",
   "execution_count": null,
   "metadata": {},
   "outputs": [],
   "source": []
  },
  {
   "cell_type": "code",
   "execution_count": null,
   "metadata": {},
   "outputs": [],
   "source": []
  },
  {
   "cell_type": "code",
   "execution_count": 19,
   "metadata": {},
   "outputs": [
    {
     "name": "stdout",
     "output_type": "stream",
     "text": [
      "┌────────────────────────────────────────┐\n",
      "│                                        │\n",
      "│                                        │\n",
      "│                                        │\n",
      "│                                        │\n",
      "│                                        │\n",
      "│                                        │\n",
      "│                                        │\n",
      "└────────────────────────────────────────┘\n"
     ]
    }
   ],
   "source": [
    "blk = ch.Block(40, 7)\n",
    "blk.show()"
   ]
  },
  {
   "cell_type": "code",
   "execution_count": 20,
   "metadata": {},
   "outputs": [],
   "source": [
    "blk.draw.line.horizontal(4, 5, 8)"
   ]
  },
  {
   "cell_type": "code",
   "execution_count": 21,
   "metadata": {},
   "outputs": [
    {
     "name": "stdout",
     "output_type": "stream",
     "text": [
      "┌────────────────────────────────────────┐\n",
      "│                                        │\n",
      "│                                        │\n",
      "│   \u001b[0;38;48m─\u001b[0m\u001b[0;38;48m─\u001b[0m\u001b[0;38;48m─\u001b[0m\u001b[0;38;48m─\u001b[0m\u001b[0;38;48m─\u001b[0m\u001b[0;38;48m─\u001b[0m\u001b[0;38;48m─\u001b[0m\u001b[0;38;48m─\u001b[0m                             │\n",
      "│                                        │\n",
      "│                                        │\n",
      "│                                        │\n",
      "│                                        │\n",
      "└────────────────────────────────────────┘\n"
     ]
    }
   ],
   "source": [
    "blk.show()"
   ]
  },
  {
   "cell_type": "code",
   "execution_count": 22,
   "metadata": {},
   "outputs": [
    {
     "data": {
      "text/plain": [
       "\u001b[0;38;48mHello! I am Formatter 140108209149200\u001b[0m"
      ]
     },
     "execution_count": 22,
     "metadata": {},
     "output_type": "execute_result"
    }
   ],
   "source": [
    "f = ch.Formatter()\n",
    "f"
   ]
  },
  {
   "cell_type": "code",
   "execution_count": 25,
   "metadata": {},
   "outputs": [
    {
     "name": "stdout",
     "output_type": "stream",
     "text": [
      "┌────────────────────────────────────────┐\n",
      "│                                        │\n",
      "│                             \u001b[1;35;43m.\u001b[0m          │\n",
      "│   \u001b[0;38;48m─\u001b[0m\u001b[0;38;48m─\u001b[0m\u001b[0;38;48m─\u001b[0m\u001b[0;38;48m─\u001b[0m\u001b[0;38;48m─\u001b[0m\u001b[0;38;48m─\u001b[0m\u001b[0;38;48m─\u001b[0m\u001b[0;38;48m─\u001b[0m                             │\n",
      "│                                        │\n",
      "│                                        │\n",
      "│                                        │\n",
      "│                                        │\n",
      "└────────────────────────────────────────┘\n"
     ]
    }
   ],
   "source": [
    "blk.draw.point((30, 6), formatter=fstats)\n",
    "blk.show()"
   ]
  },
  {
   "cell_type": "code",
   "execution_count": 26,
   "metadata": {},
   "outputs": [
    {
     "name": "stdout",
     "output_type": "stream",
     "text": [
      "┌────────────────────────────────────────┐\n",
      "│                                        │\n",
      "│                             \u001b[1;35;43m.\u001b[0m          │\n",
      "│   \u001b[0;38;48m─\u001b[0m\u001b[0;38;48m─\u001b[0m\u001b[0;38;48m─\u001b[0m\u001b[0;38;48m─\u001b[0m\u001b[0;38;48m─\u001b[0m\u001b[0;38;48m─\u001b[0m\u001b[0;38;48m─\u001b[0m\u001b[0;38;48m─\u001b[0m                             │\n",
      "│                                        │\n",
      "│                                        │\n",
      "│         \u001b[1;35;43m─\u001b[0m\u001b[1;35;43m─\u001b[0m\u001b[1;35;43m─\u001b[0m\u001b[1;35;43m─\u001b[0m\u001b[1;35;43m─\u001b[0m\u001b[1;35;43m─\u001b[0m\u001b[1;35;43m─\u001b[0m\u001b[1;35;43m─\u001b[0m\u001b[1;35;43m─\u001b[0m\u001b[1;35;43m─\u001b[0m\u001b[1;35;43m─\u001b[0m\u001b[1;35;43m─\u001b[0m\u001b[1;35;43m─\u001b[0m\u001b[1;35;43m─\u001b[0m\u001b[1;35;43m─\u001b[0m                │\n",
      "│                                        │\n",
      "└────────────────────────────────────────┘\n"
     ]
    }
   ],
   "source": [
    "blk.draw.line.horizontal(10, 2, 15, formatter=fstats)\n",
    "blk.show()"
   ]
  },
  {
   "cell_type": "code",
   "execution_count": 27,
   "metadata": {},
   "outputs": [],
   "source": [
    "f = ch.Formatter()"
   ]
  },
  {
   "cell_type": "code",
   "execution_count": 29,
   "metadata": {},
   "outputs": [],
   "source": [
    "f.set_style.underline()\n",
    "f.set_color.yellow()\n",
    "f.set_background_color.none()"
   ]
  },
  {
   "cell_type": "code",
   "execution_count": 30,
   "metadata": {},
   "outputs": [],
   "source": [
    "f2 = ch.Formatter()"
   ]
  },
  {
   "cell_type": "code",
   "execution_count": 31,
   "metadata": {},
   "outputs": [],
   "source": [
    "f2.set_style.bold()\n",
    "f2.set_color.black()\n",
    "f2.set_background_color.white()"
   ]
  },
  {
   "cell_type": "code",
   "execution_count": 32,
   "metadata": {},
   "outputs": [
    {
     "name": "stdout",
     "output_type": "stream",
     "text": [
      "8┌────────────────────────────────\u001b[1;30;47mx\u001b[0m───────┐\n",
      "7│                                \u001b[4;33;48m.\u001b[0m       │\n",
      "6│                             \u001b[1;35;43m.\u001b[0m  \u001b[4;33;48m.\u001b[0m       │\n",
      "5│   \u001b[0;38;48m─\u001b[0m\u001b[0;38;48m─\u001b[0m\u001b[0;38;48m─\u001b[0m\u001b[0;38;48m─\u001b[0m\u001b[0;38;48m─\u001b[0m\u001b[0;38;48m─\u001b[0m\u001b[0;38;48m─\u001b[0m\u001b[0;38;48m─\u001b[0m    \u001b[4;33;48m.\u001b[0m\u001b[4;33;48m.\u001b[0m\u001b[4;33;48m.\u001b[0m\u001b[4;33;48m.\u001b[0m\u001b[4;33;48m.\u001b[0m\u001b[4;33;48m.\u001b[0m\u001b[4;33;48m.\u001b[0m\u001b[4;33;48m.\u001b[0m\u001b[4;33;48m.\u001b[0m\u001b[4;33;48m.\u001b[0m\u001b[4;33;48m.\u001b[0m\u001b[4;33;48m.\u001b[0m\u001b[4;33;48m.\u001b[0m\u001b[4;33;48m.\u001b[0m\u001b[4;33;48m.\u001b[0m\u001b[4;33;48m.\u001b[0m\u001b[4;33;48m.\u001b[0m\u001b[4;33;48m.\u001b[0m       │\n",
      "4│     \u001b[4;33;48m.\u001b[0m\u001b[4;33;48m.\u001b[0m\u001b[4;33;48m.\u001b[0m\u001b[4;33;48m.\u001b[0m\u001b[4;33;48m.\u001b[0m\u001b[4;33;48m.\u001b[0m\u001b[4;33;48m.\u001b[0m\u001b[4;33;48m.\u001b[0m\u001b[4;33;48m.\u001b[0m\u001b[4;33;48m.\u001b[0m                         │\n",
      "3│    \u001b[4;33;48m.\u001b[0m                                   │\n",
      "2│   \u001b[4;33;48m.\u001b[0m     \u001b[1;35;43m─\u001b[0m\u001b[1;35;43m─\u001b[0m\u001b[1;35;43m─\u001b[0m\u001b[1;35;43m─\u001b[0m\u001b[1;35;43m─\u001b[0m\u001b[1;35;43m─\u001b[0m\u001b[1;35;43m─\u001b[0m\u001b[1;35;43m─\u001b[0m\u001b[1;35;43m─\u001b[0m\u001b[1;35;43m─\u001b[0m\u001b[1;35;43m─\u001b[0m\u001b[1;35;43m─\u001b[0m\u001b[1;35;43m─\u001b[0m\u001b[1;35;43m─\u001b[0m\u001b[1;35;43m─\u001b[0m                │\n",
      "1│  \u001b[1;30;47mx\u001b[0m                                     │\n",
      "0└────────────────────────────────────────┘\n",
      " 012345678901234567890123456789012345678901\n",
      " 0         1         2         3         4 \n"
     ]
    }
   ],
   "source": [
    "blk.draw.line.route((3, 1), (15, 4), (33, 5), (33, 8), formatter=f, origin_formatter=f2, origin_marker='x')\n",
    "blk.show(True)"
   ]
  },
  {
   "cell_type": "code",
   "execution_count": 33,
   "metadata": {},
   "outputs": [],
   "source": [
    "blk.draw.text('Hello World', 1, 8)"
   ]
  },
  {
   "cell_type": "code",
   "execution_count": 34,
   "metadata": {},
   "outputs": [
    {
     "name": "stdout",
     "output_type": "stream",
     "text": [
      "┌\u001b[0;38;48mH\u001b[0m\u001b[0;38;48me\u001b[0m\u001b[0;38;48ml\u001b[0m\u001b[0;38;48ml\u001b[0m\u001b[0;38;48mo\u001b[0m\u001b[0;38;48m \u001b[0m\u001b[0;38;48mW\u001b[0m\u001b[0;38;48mo\u001b[0m\u001b[0;38;48mr\u001b[0m\u001b[0;38;48ml\u001b[0m\u001b[0;38;48md\u001b[0m─────────────────────\u001b[1;30;47mx\u001b[0m───────┐\n",
      "│                                \u001b[4;33;48m.\u001b[0m       │\n",
      "│                             \u001b[1;35;43m.\u001b[0m  \u001b[4;33;48m.\u001b[0m       │\n",
      "│   \u001b[0;38;48m─\u001b[0m\u001b[0;38;48m─\u001b[0m\u001b[0;38;48m─\u001b[0m\u001b[0;38;48m─\u001b[0m\u001b[0;38;48m─\u001b[0m\u001b[0;38;48m─\u001b[0m\u001b[0;38;48m─\u001b[0m\u001b[0;38;48m─\u001b[0m    \u001b[4;33;48m.\u001b[0m\u001b[4;33;48m.\u001b[0m\u001b[4;33;48m.\u001b[0m\u001b[4;33;48m.\u001b[0m\u001b[4;33;48m.\u001b[0m\u001b[4;33;48m.\u001b[0m\u001b[4;33;48m.\u001b[0m\u001b[4;33;48m.\u001b[0m\u001b[4;33;48m.\u001b[0m\u001b[4;33;48m.\u001b[0m\u001b[4;33;48m.\u001b[0m\u001b[4;33;48m.\u001b[0m\u001b[4;33;48m.\u001b[0m\u001b[4;33;48m.\u001b[0m\u001b[4;33;48m.\u001b[0m\u001b[4;33;48m.\u001b[0m\u001b[4;33;48m.\u001b[0m\u001b[4;33;48m.\u001b[0m       │\n",
      "│     \u001b[4;33;48m.\u001b[0m\u001b[4;33;48m.\u001b[0m\u001b[4;33;48m.\u001b[0m\u001b[4;33;48m.\u001b[0m\u001b[4;33;48m.\u001b[0m\u001b[4;33;48m.\u001b[0m\u001b[4;33;48m.\u001b[0m\u001b[4;33;48m.\u001b[0m\u001b[4;33;48m.\u001b[0m\u001b[4;33;48m.\u001b[0m                         │\n",
      "│    \u001b[4;33;48m.\u001b[0m                                   │\n",
      "│   \u001b[4;33;48m.\u001b[0m     \u001b[1;35;43m─\u001b[0m\u001b[1;35;43m─\u001b[0m\u001b[1;35;43m─\u001b[0m\u001b[1;35;43m─\u001b[0m\u001b[1;35;43m─\u001b[0m\u001b[1;35;43m─\u001b[0m\u001b[1;35;43m─\u001b[0m\u001b[1;35;43m─\u001b[0m\u001b[1;35;43m─\u001b[0m\u001b[1;35;43m─\u001b[0m\u001b[1;35;43m─\u001b[0m\u001b[1;35;43m─\u001b[0m\u001b[1;35;43m─\u001b[0m\u001b[1;35;43m─\u001b[0m\u001b[1;35;43m─\u001b[0m                │\n",
      "│  \u001b[1;30;47mx\u001b[0m                                     │\n",
      "└────────────────────────────────────────┘\n"
     ]
    }
   ],
   "source": [
    "blk.show()"
   ]
  },
  {
   "cell_type": "code",
   "execution_count": 35,
   "metadata": {},
   "outputs": [
    {
     "name": "stdout",
     "output_type": "stream",
     "text": [
      "8┌\u001b[0;38;48mH\u001b[0m\u001b[0;38;48me\u001b[0m\u001b[0;38;48ml\u001b[0m\u001b[0;38;48ml\u001b[0m\u001b[0;38;48mo\u001b[0m\u001b[0;38;48m \u001b[0m\u001b[0;38;48mW\u001b[0m\u001b[0;38;48mo\u001b[0m\u001b[0;38;48mr\u001b[0m\u001b[0;38;48ml\u001b[0m\u001b[0;38;48md\u001b[0m─────────────────────\u001b[1;30;47mx\u001b[0m───────┐\n",
      "7│                                \u001b[4;33;48m.\u001b[0m       │\n",
      "6│                             \u001b[1;35;43m.\u001b[0m  \u001b[4;33;48m.\u001b[0m       │\n",
      "5│   \u001b[0;38;48m─\u001b[0m\u001b[0;38;48m─\u001b[0m\u001b[0;38;48m─\u001b[0m\u001b[0;38;48m─\u001b[0m\u001b[0;38;48m─\u001b[0m\u001b[0;38;48m─\u001b[0m\u001b[0;38;48m─\u001b[0m\u001b[0;38;48m─\u001b[0m    \u001b[4;33;48m.\u001b[0m\u001b[4;33;48m.\u001b[0m\u001b[4;33;48m.\u001b[0m\u001b[4;33;48m.\u001b[0m\u001b[4;33;48m.\u001b[0m\u001b[4;33;48m.\u001b[0m\u001b[4;33;48m.\u001b[0m\u001b[4;33;48m.\u001b[0m\u001b[4;33;48m.\u001b[0m\u001b[4;33;48m.\u001b[0m\u001b[4;33;48m.\u001b[0m\u001b[4;33;48m.\u001b[0m\u001b[4;33;48m.\u001b[0m\u001b[4;33;48m.\u001b[0m\u001b[4;33;48m.\u001b[0m\u001b[4;33;48m.\u001b[0m\u001b[4;33;48m.\u001b[0m\u001b[4;33;48m.\u001b[0m       │\n",
      "4│     \u001b[4;33;48m.\u001b[0m\u001b[4;33;48m.\u001b[0m\u001b[4;33;48m.\u001b[0m\u001b[4;33;48m.\u001b[0m\u001b[4;33;48m.\u001b[0m\u001b[4;33;48m.\u001b[0m\u001b[4;33;48m.\u001b[0m\u001b[4;33;48m.\u001b[0m\u001b[4;33;48m.\u001b[0m\u001b[4;33;48m.\u001b[0m                         │\n",
      "3│    \u001b[4;33;48m.\u001b[0m                            \u001b[1;30;47mH\u001b[0m\u001b[1;30;47mi\u001b[0m     │\n",
      "2│   \u001b[4;33;48m.\u001b[0m     \u001b[1;35;43m─\u001b[0m\u001b[1;35;43m─\u001b[0m\u001b[1;35;43m─\u001b[0m\u001b[1;35;43m─\u001b[0m\u001b[1;35;43m─\u001b[0m\u001b[1;35;43m─\u001b[0m\u001b[1;35;43m─\u001b[0m\u001b[1;35;43m─\u001b[0m\u001b[1;35;43m─\u001b[0m\u001b[1;35;43m─\u001b[0m\u001b[1;35;43m─\u001b[0m\u001b[1;35;43m─\u001b[0m\u001b[1;35;43m─\u001b[0m\u001b[1;35;43m─\u001b[0m\u001b[1;35;43m─\u001b[0m     \u001b[1;30;47mM\u001b[0m\u001b[1;30;47my\u001b[0m\u001b[1;30;47m \u001b[0m\u001b[1;30;47mN\u001b[0m\u001b[1;30;47ma\u001b[0m\u001b[1;30;47mm\u001b[0m\u001b[1;30;47me\u001b[0m\u001b[1;30;47m \u001b[0m\u001b[1;30;47mI\u001b[0m\u001b[1;30;47ms\u001b[0m │\n",
      "1│  \u001b[1;30;47mx\u001b[0m                          \u001b[1;30;47mS\u001b[0m\u001b[1;30;47ml\u001b[0m\u001b[1;30;47mi\u001b[0m\u001b[1;30;47mm\u001b[0m\u001b[1;30;47m \u001b[0m\u001b[1;30;47mS\u001b[0m\u001b[1;30;47mh\u001b[0m\u001b[1;30;47ma\u001b[0m\u001b[1;30;47md\u001b[0m\u001b[1;30;47my\u001b[0m │\n",
      "0└────────────────────────────────────────┘\n",
      " 012345678901234567890123456789012345678901\n",
      " 0         1         2         3         4 \n"
     ]
    }
   ],
   "source": [
    "blk.draw.text(['Hi', 'My Name Is', 'Slim Shady'], 30, 3, formatter=f2)\n",
    "blk.show(True)"
   ]
  },
  {
   "cell_type": "code",
   "execution_count": 36,
   "metadata": {},
   "outputs": [
    {
     "name": "stdout",
     "output_type": "stream",
     "text": [
      "  ┌────────────────────────────────────────────────────────────────────────────────────────────────────┐\n",
      "19│                                                                                                    │\n",
      "18│                                                                                                    │\n",
      "17│                                                                                                    │\n",
      "16│                                                                                                    │\n",
      "15│                                                                                                    │\n",
      "14│                                                                                                    │\n",
      "13│                                                                                                    │\n",
      "12│                                                                                                    │\n",
      "11│                                                                                                    │\n",
      "10│                                                                                                    │\n",
      "09│                                                                                                    │\n",
      "08│┌\u001b[0;38;48mH\u001b[0m\u001b[0;38;48me\u001b[0m\u001b[0;38;48ml\u001b[0m\u001b[0;38;48ml\u001b[0m\u001b[0;38;48mo\u001b[0m\u001b[0;38;48m \u001b[0m\u001b[0;38;48mW\u001b[0m\u001b[0;38;48mo\u001b[0m\u001b[0;38;48mr\u001b[0m\u001b[0;38;48ml\u001b[0m\u001b[0;38;48md\u001b[0m─────────────────────\u001b[1;30;47mx\u001b[0m───────┐                                                          │\n",
      "07││                                \u001b[4;33;48m.\u001b[0m       │                                                          │\n",
      "06││                             \u001b[1;35;43m.\u001b[0m  \u001b[4;33;48m.\u001b[0m       │                                                          │\n",
      "05││   \u001b[0;38;48m─\u001b[0m\u001b[0;38;48m─\u001b[0m\u001b[0;38;48m─\u001b[0m\u001b[0;38;48m─\u001b[0m\u001b[0;38;48m─\u001b[0m\u001b[0;38;48m─\u001b[0m\u001b[0;38;48m─\u001b[0m\u001b[0;38;48m─\u001b[0m    \u001b[4;33;48m.\u001b[0m\u001b[4;33;48m.\u001b[0m\u001b[4;33;48m.\u001b[0m\u001b[4;33;48m.\u001b[0m\u001b[4;33;48m.\u001b[0m\u001b[4;33;48m.\u001b[0m\u001b[4;33;48m.\u001b[0m\u001b[4;33;48m.\u001b[0m\u001b[4;33;48m.\u001b[0m\u001b[4;33;48m.\u001b[0m\u001b[4;33;48m.\u001b[0m\u001b[4;33;48m.\u001b[0m\u001b[4;33;48m.\u001b[0m\u001b[4;33;48m.\u001b[0m\u001b[4;33;48m.\u001b[0m\u001b[4;33;48m.\u001b[0m\u001b[4;33;48m.\u001b[0m\u001b[4;33;48m.\u001b[0m       │                                                          │\n",
      "04││     \u001b[4;33;48m.\u001b[0m\u001b[4;33;48m.\u001b[0m\u001b[4;33;48m.\u001b[0m\u001b[4;33;48m.\u001b[0m\u001b[4;33;48m.\u001b[0m\u001b[4;33;48m.\u001b[0m\u001b[4;33;48m.\u001b[0m\u001b[4;33;48m.\u001b[0m\u001b[4;33;48m.\u001b[0m\u001b[4;33;48m.\u001b[0m                         │                                                          │\n",
      "03││    \u001b[4;33;48m.\u001b[0m                            \u001b[1;30;47mH\u001b[0m\u001b[1;30;47mi\u001b[0m     │                                                          │\n",
      "02││   \u001b[4;33;48m.\u001b[0m     \u001b[1;35;43m─\u001b[0m\u001b[1;35;43m─\u001b[0m\u001b[1;35;43m─\u001b[0m\u001b[1;35;43m─\u001b[0m\u001b[1;35;43m─\u001b[0m\u001b[1;35;43m─\u001b[0m\u001b[1;35;43m─\u001b[0m\u001b[1;35;43m─\u001b[0m\u001b[1;35;43m─\u001b[0m\u001b[1;35;43m─\u001b[0m\u001b[1;35;43m─\u001b[0m\u001b[1;35;43m─\u001b[0m\u001b[1;35;43m─\u001b[0m\u001b[1;35;43m─\u001b[0m\u001b[1;35;43m─\u001b[0m     \u001b[1;30;47mM\u001b[0m\u001b[1;30;47my\u001b[0m\u001b[1;30;47m \u001b[0m\u001b[1;30;47mN\u001b[0m\u001b[1;30;47ma\u001b[0m\u001b[1;30;47mm\u001b[0m\u001b[1;30;47me\u001b[0m\u001b[1;30;47m \u001b[0m\u001b[1;30;47mI\u001b[0m\u001b[1;30;47ms\u001b[0m │                                                          │\n",
      "01││  \u001b[1;30;47mx\u001b[0m                          \u001b[1;30;47mS\u001b[0m\u001b[1;30;47ml\u001b[0m\u001b[1;30;47mi\u001b[0m\u001b[1;30;47mm\u001b[0m\u001b[1;30;47m \u001b[0m\u001b[1;30;47mS\u001b[0m\u001b[1;30;47mh\u001b[0m\u001b[1;30;47ma\u001b[0m\u001b[1;30;47md\u001b[0m\u001b[1;30;47my\u001b[0m │                                                          │\n",
      "00│└────────────────────────────────────────┘                                                          │\n",
      "  └────────────────────────────────────────────────────────────────────────────────────────────────────┘\n",
      "   0123456789012345678901234567890123456789012345678901234567890123456789012345678901234567890123456789 \n",
      "   0         1         2         3         4         5         6         7         8         9          \n",
      "   0                                                                                                    \n"
     ]
    }
   ],
   "source": [
    "cnv = ch.Canvas(100, 20)\n",
    "cnv.add_object(blk)\n",
    "cnv.show(True, True)"
   ]
  },
  {
   "cell_type": "code",
   "execution_count": 37,
   "metadata": {},
   "outputs": [
    {
     "name": "stdout",
     "output_type": "stream",
     "text": [
      "  ┌────────────────────────────────────────────────────────────────────────────────────────────────────┐\n",
      "19│                                                                                                    │\n",
      "18│                                                                                                    │\n",
      "17│                                                                                                    │\n",
      "16│                                                                                                    │\n",
      "15│                                                                                                    │\n",
      "14│                                                                                                    │\n",
      "13│                                                                                                    │\n",
      "12│                                                                                                    │\n",
      "11│          ┌\u001b[0;38;48mH\u001b[0m\u001b[0;38;48me\u001b[0m\u001b[0;38;48ml\u001b[0m\u001b[0;38;48ml\u001b[0m\u001b[0;38;48mo\u001b[0m\u001b[0;38;48m \u001b[0m\u001b[0;38;48mW\u001b[0m\u001b[0;38;48mo\u001b[0m\u001b[0;38;48mr\u001b[0m\u001b[0;38;48ml\u001b[0m\u001b[0;38;48md\u001b[0m─────────────────────\u001b[1;30;47mx\u001b[0m───────┐                                                │\n",
      "10│          │                                \u001b[4;33;48m.\u001b[0m       │                                                │\n",
      "09│          │                             \u001b[1;35;43m.\u001b[0m  \u001b[4;33;48m.\u001b[0m       │                                                │\n",
      "08│          │   \u001b[0;38;48m─\u001b[0m\u001b[0;38;48m─\u001b[0m\u001b[0;38;48m─\u001b[0m\u001b[0;38;48m─\u001b[0m\u001b[0;38;48m─\u001b[0m\u001b[0;38;48m─\u001b[0m\u001b[0;38;48m─\u001b[0m\u001b[0;38;48m─\u001b[0m    \u001b[4;33;48m.\u001b[0m\u001b[4;33;48m.\u001b[0m\u001b[4;33;48m.\u001b[0m\u001b[4;33;48m.\u001b[0m\u001b[4;33;48m.\u001b[0m\u001b[4;33;48m.\u001b[0m\u001b[4;33;48m.\u001b[0m\u001b[4;33;48m.\u001b[0m\u001b[4;33;48m.\u001b[0m\u001b[4;33;48m.\u001b[0m\u001b[4;33;48m.\u001b[0m\u001b[4;33;48m.\u001b[0m\u001b[4;33;48m.\u001b[0m\u001b[4;33;48m.\u001b[0m\u001b[4;33;48m.\u001b[0m\u001b[4;33;48m.\u001b[0m\u001b[4;33;48m.\u001b[0m\u001b[4;33;48m.\u001b[0m       │                                                │\n",
      "07│          │     \u001b[4;33;48m.\u001b[0m\u001b[4;33;48m.\u001b[0m\u001b[4;33;48m.\u001b[0m\u001b[4;33;48m.\u001b[0m\u001b[4;33;48m.\u001b[0m\u001b[4;33;48m.\u001b[0m\u001b[4;33;48m.\u001b[0m\u001b[4;33;48m.\u001b[0m\u001b[4;33;48m.\u001b[0m\u001b[4;33;48m.\u001b[0m                         │                                                │\n",
      "06│          │    \u001b[4;33;48m.\u001b[0m                            \u001b[1;30;47mH\u001b[0m\u001b[1;30;47mi\u001b[0m     │                                                │\n",
      "05│          │   \u001b[4;33;48m.\u001b[0m     \u001b[1;35;43m─\u001b[0m\u001b[1;35;43m─\u001b[0m\u001b[1;35;43m─\u001b[0m\u001b[1;35;43m─\u001b[0m\u001b[1;35;43m─\u001b[0m\u001b[1;35;43m─\u001b[0m\u001b[1;35;43m─\u001b[0m\u001b[1;35;43m─\u001b[0m\u001b[1;35;43m─\u001b[0m\u001b[1;35;43m─\u001b[0m\u001b[1;35;43m─\u001b[0m\u001b[1;35;43m─\u001b[0m\u001b[1;35;43m─\u001b[0m\u001b[1;35;43m─\u001b[0m\u001b[1;35;43m─\u001b[0m     \u001b[1;30;47mM\u001b[0m\u001b[1;30;47my\u001b[0m\u001b[1;30;47m \u001b[0m\u001b[1;30;47mN\u001b[0m\u001b[1;30;47ma\u001b[0m\u001b[1;30;47mm\u001b[0m\u001b[1;30;47me\u001b[0m\u001b[1;30;47m \u001b[0m\u001b[1;30;47mI\u001b[0m\u001b[1;30;47ms\u001b[0m │                                                │\n",
      "04│          │  \u001b[1;30;47mx\u001b[0m                          \u001b[1;30;47mS\u001b[0m\u001b[1;30;47ml\u001b[0m\u001b[1;30;47mi\u001b[0m\u001b[1;30;47mm\u001b[0m\u001b[1;30;47m \u001b[0m\u001b[1;30;47mS\u001b[0m\u001b[1;30;47mh\u001b[0m\u001b[1;30;47ma\u001b[0m\u001b[1;30;47md\u001b[0m\u001b[1;30;47my\u001b[0m │                                                │\n",
      "03│          └────────────────────────────────────────┘                                                │\n",
      "02│                                                                                                    │\n",
      "01│                                                                                                    │\n",
      "00│                                                                                                    │\n",
      "  └────────────────────────────────────────────────────────────────────────────────────────────────────┘\n",
      "   0123456789012345678901234567890123456789012345678901234567890123456789012345678901234567890123456789 \n",
      "   0         1         2         3         4         5         6         7         8         9          \n",
      "   0                                                                                                    \n"
     ]
    }
   ],
   "source": [
    "blk.set_x(10)\n",
    "blk.set_y(3)\n",
    "cnv.show(True, True)"
   ]
  },
  {
   "cell_type": "code",
   "execution_count": 38,
   "metadata": {},
   "outputs": [
    {
     "name": "stdout",
     "output_type": "stream",
     "text": [
      "  ┌────────────────────────────────────────────────────────────────────────────────────────────────────┐\n",
      "19│                                                                                                    │\n",
      "18│                                                                                                    │\n",
      "17│                                                                                                    │\n",
      "16│                                                                                                    │\n",
      "15│                                                                                                    │\n",
      "14│                                                                                                    │\n",
      "13│                                                                                                    │\n",
      "12│                                                                                                    │\n",
      "11│                    ┌\u001b[0;38;48mH\u001b[0m\u001b[0;38;48me\u001b[0m\u001b[0;38;48ml\u001b[0m\u001b[0;38;48ml\u001b[0m\u001b[0;38;48mo\u001b[0m\u001b[0;38;48m \u001b[0m\u001b[0;38;48mW\u001b[0m\u001b[0;38;48mo\u001b[0m\u001b[0;38;48mr\u001b[0m\u001b[0;38;48ml\u001b[0m\u001b[0;38;48md\u001b[0m─────────────────────\u001b[1;30;47mx\u001b[0m───────┐                                      │\n",
      "10│                    │                                \u001b[4;33;48m.\u001b[0m       │                                      │\n",
      "09│                    │                             \u001b[1;35;43m.\u001b[0m  \u001b[4;33;48m.\u001b[0m       │                                      │\n",
      "08│                    │   \u001b[0;38;48m─\u001b[0m\u001b[0;38;48m─\u001b[0m\u001b[0;38;48m─\u001b[0m\u001b[0;38;48m─\u001b[0m\u001b[0;38;48m─\u001b[0m\u001b[0;38;48m─\u001b[0m\u001b[0;38;48m─\u001b[0m\u001b[0;38;48m─\u001b[0m    \u001b[4;33;48m.\u001b[0m\u001b[4;33;48m.\u001b[0m\u001b[4;33;48m.\u001b[0m\u001b[4;33;48m.\u001b[0m\u001b[4;33;48m.\u001b[0m\u001b[4;33;48m.\u001b[0m\u001b[4;33;48m.\u001b[0m\u001b[4;33;48m.\u001b[0m\u001b[4;33;48m.\u001b[0m\u001b[4;33;48m.\u001b[0m\u001b[4;33;48m.\u001b[0m\u001b[4;33;48m.\u001b[0m\u001b[4;33;48m.\u001b[0m\u001b[4;33;48m.\u001b[0m\u001b[4;33;48m.\u001b[0m\u001b[4;33;48m.\u001b[0m\u001b[4;33;48m.\u001b[0m\u001b[4;33;48m.\u001b[0m       │                                      │\n",
      "07│                    │     \u001b[4;33;48m.\u001b[0m\u001b[4;33;48m.\u001b[0m\u001b[4;33;48m.\u001b[0m\u001b[4;33;48m.\u001b[0m\u001b[4;33;48m.\u001b[0m\u001b[4;33;48m.\u001b[0m\u001b[4;33;48m.\u001b[0m\u001b[4;33;48m.\u001b[0m\u001b[4;33;48m.\u001b[0m\u001b[4;33;48m.\u001b[0m                         │                                      │\n",
      "06│                    │    \u001b[4;33;48m.\u001b[0m                            \u001b[1;30;47mH\u001b[0m\u001b[1;30;47mi\u001b[0m     │                                      │\n",
      "05│                    │   \u001b[4;33;48m.\u001b[0m     \u001b[1;35;43m─\u001b[0m\u001b[1;35;43m─\u001b[0m\u001b[1;35;43m─\u001b[0m\u001b[1;35;43m─\u001b[0m\u001b[1;35;43m─\u001b[0m\u001b[1;35;43m─\u001b[0m\u001b[1;35;43m─\u001b[0m\u001b[1;35;43m─\u001b[0m\u001b[1;35;43m─\u001b[0m\u001b[1;35;43m─\u001b[0m\u001b[1;35;43m─\u001b[0m\u001b[1;35;43m─\u001b[0m\u001b[1;35;43m─\u001b[0m\u001b[1;35;43m─\u001b[0m\u001b[1;35;43m─\u001b[0m     \u001b[1;30;47mM\u001b[0m\u001b[1;30;47my\u001b[0m\u001b[1;30;47m \u001b[0m\u001b[1;30;47mN\u001b[0m\u001b[1;30;47ma\u001b[0m\u001b[1;30;47mm\u001b[0m\u001b[1;30;47me\u001b[0m\u001b[1;30;47m \u001b[0m\u001b[1;30;47mI\u001b[0m\u001b[1;30;47ms\u001b[0m │                                      │\n",
      "04│                    │  \u001b[1;30;47mx\u001b[0m                          \u001b[1;30;47mS\u001b[0m\u001b[1;30;47ml\u001b[0m\u001b[1;30;47mi\u001b[0m\u001b[1;30;47mm\u001b[0m\u001b[1;30;47m \u001b[0m\u001b[1;30;47mS\u001b[0m\u001b[1;30;47mh\u001b[0m\u001b[1;30;47ma\u001b[0m\u001b[1;30;47md\u001b[0m\u001b[1;30;47my\u001b[0m │                                      │\n",
      "03│                    └────────────────────────────────────────┘                                      │\n",
      "02│                                                                                                    │\n",
      "01│                                                                                                    │\n",
      "00│                                                                                                    │\n",
      "  └────────────────────────────────────────────────────────────────────────────────────────────────────┘\n",
      "   0123456789012345678901234567890123456789012345678901234567890123456789012345678901234567890123456789 \n",
      "   0         1         2         3         4         5         6         7         8         9          \n",
      "   0                                                                                                    \n"
     ]
    }
   ],
   "source": [
    "blk.coord.x += 10\n",
    "cnv.show(1, 1)"
   ]
  },
  {
   "cell_type": "code",
   "execution_count": null,
   "metadata": {},
   "outputs": [],
   "source": []
  },
  {
   "cell_type": "code",
   "execution_count": 2,
   "metadata": {},
   "outputs": [
    {
     "name": "stdout",
     "output_type": "stream",
     "text": [
      "\u001b[0;37;40m Normal text\n",
      "\n",
      "\u001b[2;37;40m Underlined text\u001b[0;37;40m \n",
      "\n",
      "\u001b[1;37;40m Bright Colour\u001b[0;37;40m \n",
      "\n",
      "\u001b[3;37;40m Negative Colour\u001b[0;37;40m \n",
      "\n",
      "\u001b[5;37;40m Negative Colour\u001b[0;37;40m\n",
      "\n",
      "\u001b[1;37;40m \u001b[2;37:40m TextColour BlackBackground          TextColour GreyBackground                WhiteText ColouredBackground\u001b[0;37;40m\n",
      "\n",
      "\u001b[1;30;40m Dark Gray      \u001b[0m 1;30;40m            \u001b[0;30;47m Black      \u001b[0m 0;30;47m               \u001b[0;37;41m Black      \u001b[0m 0;37;41m\n",
      "\u001b[1;31;40m Bright Red     \u001b[0m 1;31;40m            \u001b[0;31;47m Red        \u001b[0m 0;31;47m               \u001b[0;37;42m Black      \u001b[0m 0;37;42m\n",
      "\u001b[1;32;40m Bright Green   \u001b[0m 1;32;40m            \u001b[0;32;47m Green      \u001b[0m 0;32;47m               \u001b[0;37;43m Black      \u001b[0m 0;37;43m\n",
      "\u001b[1;33;40m Yellow         \u001b[0m 1;33;40m            \u001b[0;33;47m Brown      \u001b[0m 0;33;47m               \u001b[0;37;44m Black      \u001b[0m 0;37;44m\n",
      "\u001b[1;34;40m Bright Blue    \u001b[0m 1;34;40m            \u001b[0;34;47m Blue       \u001b[0m 0;34;47m               \u001b[0;37;45m Black      \u001b[0m 0;37;45m\n",
      "\u001b[1;35;40m Bright Magenta \u001b[0m 1;35;40m            \u001b[0;35;47m Magenta    \u001b[0m 0;35;47m               \u001b[0;37;46m Black      \u001b[0m 0;37;46m\n",
      "\u001b[1;36;40m Bright Cyan    \u001b[0m 1;36;40m            \u001b[0;36;47m Cyan       \u001b[0m 0;36;47m               \u001b[0;37;47m Black      \u001b[0m 0;37;47m\n",
      "\u001b[1;37;40m White          \u001b[0m 1;37;40m            \u001b[0;37;40m Light Grey \u001b[0m 0;37;40m               \u001b[0;37;48m Black      \u001b[0m 0;37;48m\n"
     ]
    }
   ],
   "source": [
    "print(\"\\033[0;37;40m Normal text\\n\")\n",
    "print(\"\\033[2;37;40m Underlined text\\033[0;37;40m \\n\")\n",
    "print(\"\\033[1;37;40m Bright Colour\\033[0;37;40m \\n\")\n",
    "print(\"\\033[3;37;40m Negative Colour\\033[0;37;40m \\n\")\n",
    "print(\"\\033[5;37;40m Negative Colour\\033[0;37;40m\\n\")\n",
    " \n",
    "print(\"\\033[1;37;40m \\033[2;37:40m TextColour BlackBackground          TextColour GreyBackground                WhiteText ColouredBackground\\033[0;37;40m\\n\")\n",
    "print(\"\\033[1;30;40m Dark Gray      \\033[0m 1;30;40m            \\033[0;30;47m Black      \\033[0m 0;30;47m               \\033[0;37;41m Black      \\033[0m 0;37;41m\")\n",
    "print(\"\\033[1;31;40m Bright Red     \\033[0m 1;31;40m            \\033[0;31;47m Red        \\033[0m 0;31;47m               \\033[0;37;42m Black      \\033[0m 0;37;42m\")\n",
    "print(\"\\033[1;32;40m Bright Green   \\033[0m 1;32;40m            \\033[0;32;47m Green      \\033[0m 0;32;47m               \\033[0;37;43m Black      \\033[0m 0;37;43m\")\n",
    "print(\"\\033[1;33;40m Yellow         \\033[0m 1;33;40m            \\033[0;33;47m Brown      \\033[0m 0;33;47m               \\033[0;37;44m Black      \\033[0m 0;37;44m\")\n",
    "print(\"\\033[1;34;40m Bright Blue    \\033[0m 1;34;40m            \\033[0;34;47m Blue       \\033[0m 0;34;47m               \\033[0;37;45m Black      \\033[0m 0;37;45m\")\n",
    "print(\"\\033[1;35;40m Bright Magenta \\033[0m 1;35;40m            \\033[0;35;47m Magenta    \\033[0m 0;35;47m               \\033[0;37;46m Black      \\033[0m 0;37;46m\")\n",
    "print(\"\\033[1;36;40m Bright Cyan    \\033[0m 1;36;40m            \\033[0;36;47m Cyan       \\033[0m 0;36;47m               \\033[0;37;47m Black      \\033[0m 0;37;47m\")\n",
    "print(\"\\033[1;37;40m White          \\033[0m 1;37;40m            \\033[0;37;40m Light Grey \\033[0m 0;37;40m               \\033[0;37;48m Black      \\033[0m 0;37;48m\")\n",
    "\n"
   ]
  },
  {
   "cell_type": "code",
   "execution_count": 29,
   "metadata": {},
   "outputs": [
    {
     "name": "stdout",
     "output_type": "stream",
     "text": [
      "\u001b[5;31;48mDark Gray\u001b[0m a\n"
     ]
    }
   ],
   "source": [
    "print('\\033[5;31;48mDark Gray\\033[0m', 'a')"
   ]
  },
  {
   "cell_type": "code",
   "execution_count": 45,
   "metadata": {},
   "outputs": [],
   "source": [
    "ESCAPE = ['\\033[', '\\033']\n",
    "STYLES = {\n",
    "    'none': '0',\n",
    "    'bold': '1',\n",
    "    'negative': '2',\n",
    "    'negative2': '5',\n",
    "    'underline': '4',\n",
    "}\n",
    "COLORS = {\n",
    "    'black': '30',\n",
    "    'red': '31',\n",
    "    'green': '32',\n",
    "    'yellow': '33',\n",
    "    'blue': '34',\n",
    "    'purple': '35',\n",
    "    'cyan': '36',\n",
    "    'white': '37',\n",
    "    'none': '38'\n",
    "}\n",
    "BACKGROUND_COLORS = {\n",
    "    'black': '40',\n",
    "    'red': '41',\n",
    "    'green': '42',\n",
    "    'yellow': '43',\n",
    "    'blue': '44',\n",
    "    'purple': '45',\n",
    "    'cyan': '46',\n",
    "    'white': '47',\n",
    "    'none': '48',\n",
    "}\n",
    "\n",
    "def formatter(text, color='black', style='none', bgcolor='none'):\n",
    "    cd_color = COLORS[color.lower()]\n",
    "    cd_style = STYLES[style.lower()]\n",
    "    cd_bgcolor = BACKGROUND_COLORS[bgcolor] + 'm'\n",
    "    return (';'.join([cd_style, cd_color, cd_bgcolor]) + text).join(ESCAPE)"
   ]
  },
  {
   "cell_type": "code",
   "execution_count": 51,
   "metadata": {},
   "outputs": [
    {
     "name": "stdout",
     "output_type": "stream",
     "text": [
      "\u001b[1;38;48m\u001b[4;38;48mHello World.\u001b\u001b\n"
     ]
    },
    {
     "data": {
      "text/plain": [
       "'\\x1b[1;38;48m\\x1b[4;38;48mHello World.\\x1b\\x1b'"
      ]
     },
     "execution_count": 51,
     "metadata": {},
     "output_type": "execute_result"
    }
   ],
   "source": [
    "text = 'Hello World.'\n",
    "s = formatter(text, 'none', 'underline')\n",
    "s2 = formatter(s, 'none', 'bold')\n",
    "print(s2)\n",
    "s2"
   ]
  }
 ],
 "metadata": {
  "kernelspec": {
   "display_name": "Python 3",
   "language": "python",
   "name": "python3"
  },
  "language_info": {
   "codemirror_mode": {
    "name": "ipython",
    "version": 3
   },
   "file_extension": ".py",
   "mimetype": "text/x-python",
   "name": "python",
   "nbconvert_exporter": "python",
   "pygments_lexer": "ipython3",
   "version": "3.7.4"
  }
 },
 "nbformat": 4,
 "nbformat_minor": 4
}
