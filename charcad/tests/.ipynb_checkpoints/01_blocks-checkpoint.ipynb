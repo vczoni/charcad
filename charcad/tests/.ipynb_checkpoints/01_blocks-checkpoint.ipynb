{
 "cells": [
  {
   "cell_type": "code",
   "execution_count": 1,
   "metadata": {},
   "outputs": [],
   "source": [
    "import sys\n",
    "sys.path.append('../../')\n",
    "\n",
    "import charcad as ch"
   ]
  },
  {
   "cell_type": "code",
   "execution_count": 2,
   "metadata": {},
   "outputs": [
    {
     "data": {
      "text/plain": [
       "'0.0.6'"
      ]
     },
     "execution_count": 2,
     "metadata": {},
     "output_type": "execute_result"
    }
   ],
   "source": [
    "ch.__version__"
   ]
  },
  {
   "cell_type": "markdown",
   "metadata": {},
   "source": [
    "# Drawing blocks"
   ]
  },
  {
   "cell_type": "code",
   "execution_count": 3,
   "metadata": {},
   "outputs": [],
   "source": [
    "blk = ch.Block(13, 5)"
   ]
  },
  {
   "cell_type": "code",
   "execution_count": 4,
   "metadata": {},
   "outputs": [
    {
     "name": "stdout",
     "output_type": "stream",
     "text": [
      "┌──────────────┐\n",
      "│              │\n",
      "│              │\n",
      "│              │\n",
      "│              │\n",
      "│              │\n",
      "│              │\n",
      "└──────────────┘\n"
     ]
    }
   ],
   "source": [
    "blk.show()"
   ]
  },
  {
   "cell_type": "code",
   "execution_count": 5,
   "metadata": {},
   "outputs": [
    {
     "name": "stdout",
     "output_type": "stream",
     "text": [
      "┌──────────────┐\n",
      "│              │\n",
      "│   \u001b[0;38;48m─\u001b[0m\u001b[0;38;48m─\u001b[0m\u001b[0;38;48m─\u001b[0m\u001b[0;38;48m─\u001b[0m\u001b[0;38;48m─\u001b[0m\u001b[0;38;48m─\u001b[0m\u001b[0;38;48m─\u001b[0m\u001b[0;38;48m─\u001b[0m   │\n",
      "│              │\n",
      "│              │\n",
      "│              │\n",
      "│              │\n",
      "└──────────────┘\n"
     ]
    }
   ],
   "source": [
    "blk.draw.line.horizontal(4, 5, 8)\n",
    "blk.show()"
   ]
  },
  {
   "cell_type": "code",
   "execution_count": 6,
   "metadata": {},
   "outputs": [],
   "source": [
    "blk2 = ch.Block(5, 3, 7, 1)"
   ]
  },
  {
   "cell_type": "code",
   "execution_count": 7,
   "metadata": {},
   "outputs": [
    {
     "name": "stdout",
     "output_type": "stream",
     "text": [
      "┌──────────────┐\n",
      "│      ┌──────┐│\n",
      "│   \u001b[0;38;48m─\u001b[0m\u001b[0;38;48m─\u001b[0m\u001b[0;38;48m─\u001b[0m│\u001b[0;38;48m─\u001b[0m\u001b[0;38;48m─\u001b[0m\u001b[0;38;48m─\u001b[0m\u001b[0;38;48m─\u001b[0m  ││\n",
      "│      │      ││\n",
      "│      │      ││\n",
      "│      │      ││\n",
      "│      └──────┘│\n",
      "└──────────────┘\n"
     ]
    }
   ],
   "source": [
    "blk.add_object(blk2)\n",
    "blk.show()"
   ]
  },
  {
   "cell_type": "code",
   "execution_count": 8,
   "metadata": {},
   "outputs": [],
   "source": [
    "blk2.set_transparency(False)"
   ]
  },
  {
   "cell_type": "code",
   "execution_count": 9,
   "metadata": {},
   "outputs": [
    {
     "name": "stdout",
     "output_type": "stream",
     "text": [
      "7┌──────────────┐\n",
      "6│      ┌──────┐│\n",
      "5│   \u001b[0;38;48m─\u001b[0m\u001b[0;38;48m─\u001b[0m\u001b[0;38;48m─\u001b[0m│      ││\n",
      "4│      │      ││\n",
      "3│      │      ││\n",
      "2│      │      ││\n",
      "1│      └──────┘│\n",
      "0└──────────────┘\n",
      " 0123456789012345\n",
      " 0         1     \n"
     ]
    }
   ],
   "source": [
    "blk.show(True)"
   ]
  },
  {
   "cell_type": "code",
   "execution_count": 10,
   "metadata": {},
   "outputs": [],
   "source": [
    "cnv = ch.Canvas(100, 10)"
   ]
  },
  {
   "cell_type": "code",
   "execution_count": 11,
   "metadata": {},
   "outputs": [
    {
     "name": "stdout",
     "output_type": "stream",
     "text": [
      "  ┌─────────────────────────────────────────────────────────────────────────────────────────────────────┐\n",
      "10│                                        ┌──────────────┐                                             │\n",
      "09│                                        │      ┌──────┐│                                             │\n",
      "08│                                        │   \u001b[0;38;48m─\u001b[0m\u001b[0;38;48m─\u001b[0m\u001b[0;38;48m─\u001b[0m│      ││                                             │\n",
      "07│                                        │      │      ││                                             │\n",
      "06│                                        │      │      ││                                             │\n",
      "05│                                        │      │      ││                                             │\n",
      "04│                                        │      └──────┘│                                             │\n",
      "03│                                        └──────────────┘                                             │\n",
      "02│                                                                                                     │\n",
      "01│                                                                                                     │\n",
      "00│                                                                                                     │\n",
      "  └─────────────────────────────────────────────────────────────────────────────────────────────────────┘\n",
      "   01234567890123456789012345678901234567890123456789012345678901234567890123456789012345678901234567890 \n",
      "   0         1         2         3         4         5         6         7         8         9         0 \n",
      "   0                                                                                                   1 \n"
     ]
    }
   ],
   "source": [
    "cnv.add_object(blk, (40, 3))\n",
    "cnv.show(True, True)"
   ]
  },
  {
   "cell_type": "code",
   "execution_count": 12,
   "metadata": {},
   "outputs": [
    {
     "name": "stdout",
     "output_type": "stream",
     "text": [
      "  ┌─────────────────────────────────────────────────────────────────────────────────────────────────────┐\n",
      "10│                                        ┌──────────────┐                                             │\n",
      "09│                                        │      ┌──────┐│                                             │\n",
      "08│                                        │   \u001b[0;38;48m─\u001b[0m\u001b[0;38;48m─\u001b[0m\u001b[0;38;48m─\u001b[0m│      ││                                             │\n",
      "07│                                        │      │      ││                                             │\n",
      "06│                                        │      │      ││                                             │\n",
      "05│                    ┌───┐               │      │      ││                                             │\n",
      "04│                    │   │               │      └──────┘│                                             │\n",
      "03│                    │   │               └──────────────┘                                             │\n",
      "02│                    └───┘                                                                            │\n",
      "01│                                                                                                     │\n",
      "00│                                                                                                     │\n",
      "  └─────────────────────────────────────────────────────────────────────────────────────────────────────┘\n",
      "   01234567890123456789012345678901234567890123456789012345678901234567890123456789012345678901234567890 \n",
      "   0         1         2         3         4         5         6         7         8         9         0 \n",
      "   0                                                                                                   1 \n"
     ]
    }
   ],
   "source": [
    "cnv.add_object(ch.Block(2, 1), (20, 2))\n",
    "cnv.show(True, True)"
   ]
  },
  {
   "cell_type": "code",
   "execution_count": 13,
   "metadata": {},
   "outputs": [
    {
     "name": "stdout",
     "output_type": "stream",
     "text": [
      "  ┌─────────────────────────────────────────────────────────────────────────────────────────────────────┐\n",
      "10│                                                                                                     │\n",
      "09│                                                            ┌──────────────┐                         │\n",
      "08│                                                            │      ┌──────┐│                         │\n",
      "07│                                                            │   \u001b[0;38;48m─\u001b[0m\u001b[0;38;48m─\u001b[0m\u001b[0;38;48m─\u001b[0m│      ││                         │\n",
      "06│                                                            │      │      ││                         │\n",
      "05│                    ┌───┐                                   │      │      ││                         │\n",
      "04│                    │   │                                   │      │      ││                         │\n",
      "03│                    │   │                                   │      └──────┘│                         │\n",
      "02│                    └───┘                                   └──────────────┘                         │\n",
      "01│                                                                                                     │\n",
      "00│                                                                                                     │\n",
      "  └─────────────────────────────────────────────────────────────────────────────────────────────────────┘\n",
      "   01234567890123456789012345678901234567890123456789012345678901234567890123456789012345678901234567890 \n",
      "   0         1         2         3         4         5         6         7         8         9         0 \n",
      "   0                                                                                                   1 \n"
     ]
    }
   ],
   "source": [
    "blk.coord.y -= 1\n",
    "blk.coord.x += 20\n",
    "cnv.show(True, True)"
   ]
  },
  {
   "cell_type": "code",
   "execution_count": 14,
   "metadata": {},
   "outputs": [
    {
     "name": "stdout",
     "output_type": "stream",
     "text": [
      "  ┌─────────────────────────────────────────────────────────────────────────────────────────────────────┐\n",
      "10│                                        ┌──────────────┐                                             │\n",
      "09│                                        │      ┌──────┐│                                             │\n",
      "08│                                        │   \u001b[0;38;48m─\u001b[0m\u001b[0;38;48m─\u001b[0m\u001b[0;38;48m─\u001b[0m│      ││                                             │\n",
      "07│                                        │      │      ││                                             │\n",
      "06│                                        │      │      ││                                             │\n",
      "05│                    ┌───┐               │      │      ││                                             │\n",
      "04│                    │   │               │      └──────┘│                                             │\n",
      "03│                    │   │               └──────────────┘                                             │\n",
      "02│                    └───┘                                                                            │\n",
      "01│                                                                                                     │\n",
      "00│                                                                                                     │\n",
      "  └─────────────────────────────────────────────────────────────────────────────────────────────────────┘\n",
      "   01234567890123456789012345678901234567890123456789012345678901234567890123456789012345678901234567890 \n",
      "   0         1         2         3         4         5         6         7         8         9         0 \n",
      "   0                                                                                                   1 \n"
     ]
    }
   ],
   "source": [
    "cnv.add_object(blk, (40, 3))\n",
    "cnv.show(True, True)"
   ]
  }
 ],
 "metadata": {
  "kernelspec": {
   "display_name": "Python 3",
   "language": "python",
   "name": "python3"
  },
  "language_info": {
   "codemirror_mode": {
    "name": "ipython",
    "version": 3
   },
   "file_extension": ".py",
   "mimetype": "text/x-python",
   "name": "python",
   "nbconvert_exporter": "python",
   "pygments_lexer": "ipython3",
   "version": "3.7.4"
  }
 },
 "nbformat": 4,
 "nbformat_minor": 4
}
