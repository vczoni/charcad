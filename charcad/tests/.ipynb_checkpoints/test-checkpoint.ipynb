{
 "cells": [
  {
   "cell_type": "code",
   "execution_count": 1,
   "metadata": {},
   "outputs": [],
   "source": [
    "import sys\n",
    "sys.path.append('../../')\n",
    "\n",
    "import charcad as ch"
   ]
  },
  {
   "cell_type": "code",
   "execution_count": 2,
   "metadata": {},
   "outputs": [],
   "source": [
    "cnv = ch.Canvas(50, 10)"
   ]
  },
  {
   "cell_type": "code",
   "execution_count": 3,
   "metadata": {},
   "outputs": [],
   "source": [
    "cnv.add_object(ch.Point(3, 3, 'x'))\n",
    "cnv.draw.point(ch.Point(4, 5))\n",
    "cnv.draw.point((8, 8))"
   ]
  },
  {
   "cell_type": "code",
   "execution_count": 4,
   "metadata": {},
   "outputs": [
    {
     "data": {
      "text/plain": [
       "Graphic Object Array[\n",
       "    object_0000: Point(3, 3, x),\n",
       "    object_0001: Point(4, 5, .),\n",
       "    object_0002: Point(8, 8, .)\n",
       "]"
      ]
     },
     "execution_count": 4,
     "metadata": {},
     "output_type": "execute_result"
    }
   ],
   "source": [
    "cnv.objects"
   ]
  },
  {
   "cell_type": "code",
   "execution_count": 5,
   "metadata": {},
   "outputs": [
    {
     "name": "stdout",
     "output_type": "stream",
     "text": [
      "  ┌───────────────────────────────────────────────────┐\n",
      "10│                                                   │\n",
      "09│                                                   │\n",
      "08│        .                                          │\n",
      "07│                                                   │\n",
      "06│                                                   │\n",
      "05│    .                                              │\n",
      "04│                                                   │\n",
      "03│   x                                               │\n",
      "02│                                                   │\n",
      "01│                                                   │\n",
      "00│                                                   │\n",
      "  └───────────────────────────────────────────────────┘\n",
      "   012345678901234567890123456789012345678901234567890 \n",
      "   0         1         2         3         4         5 \n"
     ]
    }
   ],
   "source": [
    "cnv.show(axes=True, frame=True)"
   ]
  },
  {
   "cell_type": "code",
   "execution_count": 6,
   "metadata": {},
   "outputs": [],
   "source": [
    "cnv.draw.route((4, 5), (30, 9), (31, 1), origin_marker='x')"
   ]
  },
  {
   "cell_type": "code",
   "execution_count": 7,
   "metadata": {},
   "outputs": [
    {
     "name": "stdout",
     "output_type": "stream",
     "text": [
      "  ┌───────────────────────────────────────────────────┐\n",
      "10│                                                   │\n",
      "09│        .......................                    │\n",
      "08│       ..                      .                   │\n",
      "07│      .                        .                   │\n",
      "06│     .                         .                   │\n",
      "05│    x                          .                   │\n",
      "04│                               .                   │\n",
      "03│   x                           .                   │\n",
      "02│                               .                   │\n",
      "01│                               x                   │\n",
      "00│                                                   │\n",
      "  └───────────────────────────────────────────────────┘\n",
      "   012345678901234567890123456789012345678901234567890 \n",
      "   0         1         2         3         4         5 \n"
     ]
    }
   ],
   "source": [
    "cnv.show(axes=True, frame=True)"
   ]
  }
 ],
 "metadata": {
  "kernelspec": {
   "display_name": "Python 3",
   "language": "python",
   "name": "python3"
  },
  "language_info": {
   "codemirror_mode": {
    "name": "ipython",
    "version": 3
   },
   "file_extension": ".py",
   "mimetype": "text/x-python",
   "name": "python",
   "nbconvert_exporter": "python",
   "pygments_lexer": "ipython3",
   "version": "3.7.4"
  }
 },
 "nbformat": 4,
 "nbformat_minor": 4
}
