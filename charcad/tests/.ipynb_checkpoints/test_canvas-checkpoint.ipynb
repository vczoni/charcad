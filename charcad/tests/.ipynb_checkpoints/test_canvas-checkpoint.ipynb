{
 "cells": [
  {
   "cell_type": "code",
   "execution_count": null,
   "metadata": {},
   "outputs": [],
   "source": [
    "import sys\n",
    "sys.path.append('../../')"
   ]
  },
  {
   "cell_type": "code",
   "execution_count": 2,
   "metadata": {},
   "outputs": [],
   "source": [
    "from charcad import Canvas"
   ]
  },
  {
   "cell_type": "code",
   "execution_count": 7,
   "metadata": {},
   "outputs": [],
   "source": [
    "cnv = Canvas()\n",
    "cnv.new(120, 20)"
   ]
  },
  {
   "cell_type": "code",
   "execution_count": 8,
   "metadata": {},
   "outputs": [],
   "source": [
    "cnv.drawpoint((5, 10), (8, 1), (2, 1), marker='O')"
   ]
  },
  {
   "cell_type": "code",
   "execution_count": 9,
   "metadata": {},
   "outputs": [],
   "source": [
    "cnv.drawroute(4,2,5,10)\n",
    "cnv.drawroute(4, 6, 60, 6)\n",
    "cnv.drawroute(9, 1, 110, 17)\n",
    "cnv.drawroute(20, 1, 25, 6)\n",
    "cnv.drawroute(100, 19, 110, 5)\n",
    "cnv.drawroute(100, 19, 80, 10)\n",
    "cnv.drawroute(65, 10, 85, 19)\n",
    "cnv.drawroute(35, 19, 55, 10)\n",
    "cnv.drawroute(35, 19, 35, 10)"
   ]
  },
  {
   "cell_type": "code",
   "execution_count": 10,
   "metadata": {},
   "outputs": [
    {
     "name": "stdout",
     "output_type": "stream",
     "text": [
      "20┌───────────────────────────────────────────────────────────────────────────────────────────────────────────────────────┐\n",
      "19│                                  x                                                .x             .x                   │\n",
      "18│                                  ..                                             ..             ..  .                  │\n",
      "17│                                  . ...                                       ...            ...     .      .x         │\n",
      "16│                                  .    ..                                   ..             ..         .   ..           │\n",
      "15│                                  .      ..                              ...            ...            ...             │\n",
      "14│                                  .        ...                         ..             ..             .. .              │\n",
      "13│                                  .           ..                     ..             ..            ...    .             │\n",
      "12│                                  .             ...               ...            ...            ..        .            │\n",
      "11│                                  .                ..            .              .             ..           .           │\n",
      "10│    x                             x                  .x         x              x           ...             .           │\n",
      "09│    .                                                                                    ..                .           │\n",
      "08│   .                                                                                  ...                   .          │\n",
      "07│   .                                                                                ..                      .          │\n",
      "06│   x....................x..................................x                      ..                         .         │\n",
      "05│   .                   .                                                       ...                           x         │\n",
      "04│   .                  .                                                      ..                                        │\n",
      "03│   .                 .                                                    ...                                          │\n",
      "02│   x                .                                                   ..                                             │\n",
      "01│ O     Ox..........x....................................................                                               │\n",
      "00└───────────────────────────────────────────────────────────────────────────────────────────────────────────────────────┘\n",
      "  0123456789012345678901234567890123456789012345678901234567890123456789012345678901234567890123456789012345678901234567890\n",
      "  0         1         2         3         4         5         6         7         8         9         0         1         2\n",
      "  0                                                                                                   1                    \n"
     ]
    }
   ],
   "source": [
    "cnv.show(axis=True)"
   ]
  },
  {
   "cell_type": "code",
   "execution_count": null,
   "metadata": {},
   "outputs": [],
   "source": []
  }
 ],
 "metadata": {
  "kernelspec": {
   "display_name": "Python 3",
   "language": "python",
   "name": "python3"
  },
  "language_info": {
   "codemirror_mode": {
    "name": "ipython",
    "version": 3
   },
   "file_extension": ".py",
   "mimetype": "text/x-python",
   "name": "python",
   "nbconvert_exporter": "python",
   "pygments_lexer": "ipython3",
   "version": "3.7.3"
  }
 },
 "nbformat": 4,
 "nbformat_minor": 2
}
