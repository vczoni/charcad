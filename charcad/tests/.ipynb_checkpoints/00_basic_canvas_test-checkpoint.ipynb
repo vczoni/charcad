{
 "cells": [
  {
   "cell_type": "code",
   "execution_count": 1,
   "metadata": {},
   "outputs": [],
   "source": [
    "import sys\n",
    "sys.path.append('../../')\n",
    "\n",
    "import charcad as ch"
   ]
  },
  {
   "cell_type": "code",
   "execution_count": 2,
   "metadata": {},
   "outputs": [
    {
     "data": {
      "text/plain": [
       "'0.0.6'"
      ]
     },
     "execution_count": 2,
     "metadata": {},
     "output_type": "execute_result"
    }
   ],
   "source": [
    "ch.__version__"
   ]
  },
  {
   "cell_type": "markdown",
   "metadata": {},
   "source": [
    "# Basic operations & drawings with Canvas"
   ]
  },
  {
   "cell_type": "code",
   "execution_count": 3,
   "metadata": {},
   "outputs": [],
   "source": [
    "cnv = ch.Canvas(w=50, h=10)"
   ]
  },
  {
   "cell_type": "markdown",
   "metadata": {},
   "source": [
    "### Adding graphic objects"
   ]
  },
  {
   "cell_type": "code",
   "execution_count": 4,
   "metadata": {},
   "outputs": [],
   "source": [
    "cnv.add_object(ch.Point(3, 3))\n",
    "cnv.add_object(ch.Point(marker='o'))"
   ]
  },
  {
   "cell_type": "markdown",
   "metadata": {},
   "source": [
    "### Drawing Points"
   ]
  },
  {
   "cell_type": "code",
   "execution_count": 5,
   "metadata": {},
   "outputs": [],
   "source": [
    "cnv.draw.point(ch.Point(24, 5, 'x'))\n",
    "cnv.draw.point((8, 8))"
   ]
  },
  {
   "cell_type": "code",
   "execution_count": 6,
   "metadata": {},
   "outputs": [
    {
     "data": {
      "text/plain": [
       "Graphic Object Array[\n",
       "  0\tobject_0000: Point(3, 3, .),\n",
       "  1\tobject_0001: Point(0, 0, o),\n",
       "  2\tobject_0002: Point(24, 5, x),\n",
       "  3\tobject_0003: Point(8, 8, .)\n",
       "]"
      ]
     },
     "execution_count": 6,
     "metadata": {},
     "output_type": "execute_result"
    }
   ],
   "source": [
    "cnv.objects"
   ]
  },
  {
   "cell_type": "code",
   "execution_count": 7,
   "metadata": {},
   "outputs": [
    {
     "name": "stdout",
     "output_type": "stream",
     "text": [
      "  ┌───────────────────────────────────────────────────┐\n",
      "10│                                                   │\n",
      "09│                                                   │\n",
      "08│        .                                          │\n",
      "07│                                                   │\n",
      "06│                                                   │\n",
      "05│                        x                          │\n",
      "04│                                                   │\n",
      "03│   .                                               │\n",
      "02│                                                   │\n",
      "01│                                                   │\n",
      "00│o                                                  │\n",
      "  └───────────────────────────────────────────────────┘\n",
      "   012345678901234567890123456789012345678901234567890 \n",
      "   0         1         2         3         4         5 \n"
     ]
    }
   ],
   "source": [
    "cnv.show(axes=True, frame=True)"
   ]
  },
  {
   "cell_type": "markdown",
   "metadata": {},
   "source": [
    "### Drawing Lines"
   ]
  },
  {
   "cell_type": "markdown",
   "metadata": {},
   "source": [
    "#### Orthogonal lines"
   ]
  },
  {
   "cell_type": "code",
   "execution_count": 8,
   "metadata": {},
   "outputs": [
    {
     "name": "stdout",
     "output_type": "stream",
     "text": [
      "  ┌───────────────────────────────────────────────────┐\n",
      "10│                                                   │\n",
      "09│                                                   │\n",
      "08│        .                                          │\n",
      "07│                                                   │\n",
      "06│                                                   │\n",
      "05│                        x                          │\n",
      "04│                          │                        │\n",
      "03│   .                      │                        │\n",
      "02│                          │                        │\n",
      "01│                          │                        │\n",
      "00│o                    ─────    __________           │\n",
      "  └───────────────────────────────────────────────────┘\n",
      "   012345678901234567890123456789012345678901234567890 \n",
      "   0         1         2         3         4         5 \n"
     ]
    }
   ],
   "source": [
    "cnv.draw.line.horizontal(21, 0, 5)\n",
    "cnv.draw.line.vertical(26, 1, 4)\n",
    "cnv.draw.line('horizontal', 30, 0, 10, marker='_')\n",
    "cnv.show(True, True)"
   ]
  },
  {
   "cell_type": "markdown",
   "metadata": {},
   "source": [
    "#### Routes"
   ]
  },
  {
   "cell_type": "code",
   "execution_count": 9,
   "metadata": {},
   "outputs": [
    {
     "name": "stdout",
     "output_type": "stream",
     "text": [
      "  ┌───────────────────────────────────────────────────┐\n",
      "10│                                                   │\n",
      "09│                  .............                    │\n",
      "08│        .        .             .                   │\n",
      "07│                .              .                   │\n",
      "06│               .               .                   │\n",
      "05│              .         x      .                   │\n",
      "04│                          │    .                   │\n",
      "03│   .                      │    .                   │\n",
      "02│                          │    .                   │\n",
      "01│                          │    .                   │\n",
      "00│o                    ─────    __________           │\n",
      "  └───────────────────────────────────────────────────┘\n",
      "   012345678901234567890123456789012345678901234567890 \n",
      "   0         1         2         3         4         5 \n"
     ]
    }
   ],
   "source": [
    "cnv.draw.line.route((14, 5), (30, 9), (31, 1))\n",
    "cnv.show(axes=True, frame=True)"
   ]
  },
  {
   "cell_type": "markdown",
   "metadata": {},
   "source": [
    "#### objects without transparent backgrounds"
   ]
  },
  {
   "cell_type": "code",
   "execution_count": 11,
   "metadata": {},
   "outputs": [
    {
     "name": "stdout",
     "output_type": "stream",
     "text": [
      "  ┌───────────────────────────────────────────────────┐\n",
      "10│                     oooooooooo                    │\n",
      "09│                    o          o                   │\n",
      "08│        .          o            o                  │\n",
      "07│                . o             o                  │\n",
      "06│               . x              o                  │\n",
      "05│              .                 o                  │\n",
      "04│                                x                  │\n",
      "03│   .                      │    .                   │\n",
      "02│                          │    .                   │\n",
      "01│                          │    .                   │\n",
      "00│o                    ─────    __________           │\n",
      "  └───────────────────────────────────────────────────┘\n",
      "   012345678901234567890123456789012345678901234567890 \n",
      "   0         1         2         3         4         5 \n"
     ]
    }
   ],
   "source": [
    "cnv.draw.line.route((17, 6), (30, 10), (32, 4), marker='o', origin_marker='x', transparent=False)\n",
    "cnv.show(axes=True, frame=True)"
   ]
  },
  {
   "cell_type": "markdown",
   "metadata": {},
   "source": [
    "The rectangle that fits the 'o' route blocks part of the '.' route, part of the vertical line and the 'x' point, making them invisible"
   ]
  },
  {
   "cell_type": "markdown",
   "metadata": {},
   "source": [
    "### Resetting transparency"
   ]
  },
  {
   "cell_type": "code",
   "execution_count": 12,
   "metadata": {},
   "outputs": [
    {
     "data": {
      "text/plain": [
       "Graphic Object Array[\n",
       "  0\tobject_0000: Point(3, 3, .),\n",
       "  1\tobject_0001: Point(0, 0, o),\n",
       "  2\tobject_0002: Point(24, 5, x),\n",
       "  3\tobject_0003: Point(8, 8, .),\n",
       "  4\tobject_0004: Line at <140373077839120>,\n",
       "  5\tobject_0005: Line at <140373077838544>,\n",
       "  6\tobject_0006: Line at <140373077837712>,\n",
       "  7\tobject_0007: Route at <140373077399376>,\n",
       "  8\tobject_0008: Route at <140373077372112>\n",
       "]"
      ]
     },
     "execution_count": 12,
     "metadata": {},
     "output_type": "execute_result"
    }
   ],
   "source": [
    "cnv.objects"
   ]
  },
  {
   "cell_type": "code",
   "execution_count": 13,
   "metadata": {},
   "outputs": [
    {
     "name": "stdout",
     "output_type": "stream",
     "text": [
      "  ┌───────────────────────────────────────────────────┐\n",
      "10│                     oooooooooo                    │\n",
      "09│                  ..o..........o                   │\n",
      "08│        .        . o           .o                  │\n",
      "07│                . o            .o                  │\n",
      "06│               . x             .o                  │\n",
      "05│              .         x      .o                  │\n",
      "04│                          │    .x                  │\n",
      "03│   .                      │    .                   │\n",
      "02│                          │    .                   │\n",
      "01│                          │    .                   │\n",
      "00│o                    ─────    __________           │\n",
      "  └───────────────────────────────────────────────────┘\n",
      "   012345678901234567890123456789012345678901234567890 \n",
      "   0         1         2         3         4         5 \n"
     ]
    }
   ],
   "source": [
    "cnv.objects[-1].set_transparency(transparent=True)\n",
    "cnv.show(True, True)"
   ]
  },
  {
   "cell_type": "markdown",
   "metadata": {},
   "source": [
    "There they are!"
   ]
  },
  {
   "cell_type": "markdown",
   "metadata": {},
   "source": [
    "### Removing objects from canvas"
   ]
  },
  {
   "cell_type": "code",
   "execution_count": 14,
   "metadata": {},
   "outputs": [
    {
     "data": {
      "text/plain": [
       "Graphic Object Array[\n",
       "  0\tobject_0000: Point(3, 3, .),\n",
       "  1\tobject_0001: Point(0, 0, o),\n",
       "  2\tobject_0002: Point(24, 5, x),\n",
       "  3\tobject_0003: Point(8, 8, .),\n",
       "  4\tobject_0004: Line at <140373077839120>,\n",
       "  5\tobject_0005: Line at <140373077838544>,\n",
       "  6\tobject_0006: Line at <140373077837712>,\n",
       "  7\tobject_0007: Route at <140373077399376>,\n",
       "  8\tobject_0008: Route at <140373077372112>\n",
       "]"
      ]
     },
     "execution_count": 14,
     "metadata": {},
     "output_type": "execute_result"
    }
   ],
   "source": [
    "cnv.objects"
   ]
  },
  {
   "cell_type": "code",
   "execution_count": 15,
   "metadata": {},
   "outputs": [
    {
     "data": {
      "text/plain": [
       "Graphic Object Array[\n",
       "  0\tobject_0000: Point(3, 3, .),\n",
       "  1\tobject_0001: Point(0, 0, o),\n",
       "  2\tobject_0003: Point(8, 8, .),\n",
       "  3\tobject_0004: Line at <140373077839120>,\n",
       "  4\tobject_0005: Line at <140373077838544>,\n",
       "  5\tobject_0006: Line at <140373077837712>,\n",
       "  6\tobject_0007: Route at <140373077399376>,\n",
       "  7\tobject_0008: Route at <140373077372112>\n",
       "]"
      ]
     },
     "execution_count": 15,
     "metadata": {},
     "output_type": "execute_result"
    }
   ],
   "source": [
    "cnv.objects.remove('object_0002')\n",
    "cnv.objects"
   ]
  },
  {
   "cell_type": "code",
   "execution_count": 16,
   "metadata": {},
   "outputs": [
    {
     "data": {
      "text/plain": [
       "Graphic Object Array[\n",
       "  0\tobject_0003: Point(8, 8, .),\n",
       "  1\tobject_0005: Line at <140373077838544>,\n",
       "  2\tobject_0006: Line at <140373077837712>,\n",
       "  3\tobject_0007: Route at <140373077399376>,\n",
       "  4\tobject_0008: Route at <140373077372112>\n",
       "]"
      ]
     },
     "execution_count": 16,
     "metadata": {},
     "output_type": "execute_result"
    }
   ],
   "source": [
    "cnv.remove_object((0, 3, 1))\n",
    "cnv.objects"
   ]
  },
  {
   "cell_type": "markdown",
   "metadata": {},
   "source": [
    "#### undo() - remove last object"
   ]
  },
  {
   "cell_type": "code",
   "execution_count": 17,
   "metadata": {},
   "outputs": [
    {
     "data": {
      "text/plain": [
       "Graphic Object Array[\n",
       "  0\tobject_0003: Point(8, 8, .),\n",
       "  1\tobject_0005: Line at <140373077838544>,\n",
       "  2\tobject_0006: Line at <140373077837712>,\n",
       "  3\tobject_0007: Route at <140373077399376>\n",
       "]"
      ]
     },
     "execution_count": 17,
     "metadata": {},
     "output_type": "execute_result"
    }
   ],
   "source": [
    "cnv.undo()\n",
    "cnv.objects"
   ]
  },
  {
   "cell_type": "code",
   "execution_count": 18,
   "metadata": {},
   "outputs": [
    {
     "name": "stdout",
     "output_type": "stream",
     "text": [
      "┌───────────────────────────────────────────────────┐\n",
      "│                                                   │\n",
      "│                  .............                    │\n",
      "│        .        .             .                   │\n",
      "│                .              .                   │\n",
      "│               .               .                   │\n",
      "│              .                .                   │\n",
      "│                          │    .                   │\n",
      "│                          │    .                   │\n",
      "│                          │    .                   │\n",
      "│                          │    .                   │\n",
      "│                              __________           │\n",
      "└───────────────────────────────────────────────────┘\n"
     ]
    }
   ],
   "source": [
    "cnv.show(frame=True)"
   ]
  },
  {
   "cell_type": "code",
   "execution_count": 19,
   "metadata": {},
   "outputs": [
    {
     "name": "stdout",
     "output_type": "stream",
     "text": [
      "  ┌──────────────────┐\n",
      "08│    ............. │\n",
      "07│   .             .│\n",
      "06│  .              .│\n",
      "05│ .               .│\n",
      "04│.                .│\n",
      "03│                 .│\n",
      "02│                 .│\n",
      "01│                 .│\n",
      "00│                 .│\n",
      "  └──────────────────┘\n",
      "   012345678901234567 \n",
      "   0         1        \n"
     ]
    }
   ],
   "source": [
    "cnv.objects[3].graph.print(True, True)"
   ]
  }
 ],
 "metadata": {
  "kernelspec": {
   "display_name": "Python 3",
   "language": "python",
   "name": "python3"
  },
  "language_info": {
   "codemirror_mode": {
    "name": "ipython",
    "version": 3
   },
   "file_extension": ".py",
   "mimetype": "text/x-python",
   "name": "python",
   "nbconvert_exporter": "python",
   "pygments_lexer": "ipython3",
   "version": "3.7.4"
  }
 },
 "nbformat": 4,
 "nbformat_minor": 4
}
