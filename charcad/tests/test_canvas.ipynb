{
 "cells": [
  {
   "cell_type": "code",
   "execution_count": 1,
   "metadata": {},
   "outputs": [],
   "source": [
    "import math\n",
    "import sys\n",
    "sys.path.append('../../')"
   ]
  },
  {
   "cell_type": "code",
   "execution_count": 2,
   "metadata": {},
   "outputs": [],
   "source": [
    "from charcad import *\n",
    "from charcad.draw.utils import calc_angle, calc_distance\n",
    "from charcad.draw.vector import Vector"
   ]
  },
  {
   "cell_type": "code",
   "execution_count": 3,
   "metadata": {},
   "outputs": [
    {
     "data": {
      "text/plain": [
       "12.5"
      ]
     },
     "execution_count": 3,
     "metadata": {},
     "output_type": "execute_result"
    }
   ],
   "source": [
    "p1 = Point(0, 0)\n",
    "p2 = Point(30, 0)\n",
    "factors = (25/60, 1)\n",
    "calc_distance(p1, p2, factors)"
   ]
  },
  {
   "cell_type": "code",
   "execution_count": 4,
   "metadata": {},
   "outputs": [
    {
     "data": {
      "text/plain": [
       "vector[point(1, 2), point(1, 2)]"
      ]
     },
     "execution_count": 4,
     "metadata": {},
     "output_type": "execute_result"
    }
   ],
   "source": [
    "v1 = Vector(1, 2, origin=(1, 2))\n",
    "v1"
   ]
  },
  {
   "cell_type": "code",
   "execution_count": 5,
   "metadata": {},
   "outputs": [],
   "source": [
    "cnv = Canvas()\n",
    "cnv.new(120, 20)"
   ]
  },
  {
   "cell_type": "code",
   "execution_count": 6,
   "metadata": {},
   "outputs": [
    {
     "name": "stdout",
     "output_type": "stream",
     "text": [
      "┌───────────────────────────────────────────────────────────────────────────────────────────────────────────────────────┐\n",
      "│                                                                                                                       │\n",
      "│                                                                                                                       │\n",
      "│                                                                                                                       │\n",
      "│                                                                                                                       │\n",
      "│                                       ..........x                                                                     │\n",
      "│                                       .                                                                               │\n",
      "│                                       .                                                                               │\n",
      "│                             x........ .                                                                               │\n",
      "│                                      ..                                                                               │\n",
      "│                                       .                                                                               │\n",
      "│                                        .                                                                              │\n",
      "│                                         .                                                                             │\n",
      "│                .............x            .                                                                            │\n",
      "│               x                           x                                                                           │\n",
      "│                                                                                                                       │\n",
      "│                                                                                                                       │\n",
      "│                                                                                                                       │\n",
      "│                                                                                                                       │\n",
      "│                                                                                                                       │\n",
      "└───────────────────────────────────────────────────────────────────────────────────────────────────────────────────────┘\n"
     ]
    }
   ],
   "source": [
    "cnv.drawroute(Point(15, 5), Point(30, 7))\n",
    "cnv.drawroute(Point(45, 5), Point(30, 12))\n",
    "cnv.drawroute(Point(45, 5), Point(40, 15), Point(50, 15))\n",
    "cnv.show()"
   ]
  },
  {
   "cell_type": "code",
   "execution_count": 7,
   "metadata": {},
   "outputs": [
    {
     "name": "stdout",
     "output_type": "stream",
     "text": [
      "20┌───────────────────────────────────────────────────────────────────────────────────────────────────────────────────────┐\n",
      "19│                                                                                                                       │\n",
      "18│                                                                                                                       │\n",
      "17│                                                                                                                       │\n",
      "16│                                                                                                                       │\n",
      "15│                                       ..........x                                                                     │\n",
      "14│                                       .                                                                               │\n",
      "13│                                       .                                                                               │\n",
      "12│                             x........ .                                                                               │\n",
      "11│                                      ..                                                                               │\n",
      "10│    O                                  .                                                                               │\n",
      "09│                                        .                                                                              │\n",
      "08│                                         .                                                                             │\n",
      "07│                .............x            .                                                                            │\n",
      "06│               x                           x                                                                           │\n",
      "05│                                                                                                                       │\n",
      "04│                                                                                                                       │\n",
      "03│                                                                                                   Z                   │\n",
      "02│                                                                                                                       │\n",
      "01│ O     O                                                                                                               │\n",
      "00└───────────────────────────────────────────────────────────────────────────────────────────────────────────────────────┘\n",
      "  0123456789012345678901234567890123456789012345678901234567890123456789012345678901234567890123456789012345678901234567890\n",
      "  0         1         2         3         4         5         6         7         8         9         0         1         2\n",
      "  0                                                                                                   1                    \n"
     ]
    }
   ],
   "source": [
    "cnv.drawpoint((5, 10), (8, 1), (2, 1), marker='O')\n",
    "cnv.drawpoint((100, 3), marker='Z')\n",
    "cnv.show(axis=True)"
   ]
  },
  {
   "cell_type": "code",
   "execution_count": 8,
   "metadata": {},
   "outputs": [
    {
     "name": "stdout",
     "output_type": "stream",
     "text": [
      "┌───────────────────────────────────────────────────────────────────────────────────────────────────────────────────────┐\n",
      "│                                                                                                                       │\n",
      "│                                                                                                                       │\n",
      "│                                                                                                                       │\n",
      "│                                                                                                                       │\n",
      "│                                       ..........x                                                                     │\n",
      "│                                       .                                                                               │\n",
      "│                                       .                                                                               │\n",
      "│                             x........ .                                                                               │\n",
      "│                                      ..                                                                               │\n",
      "│    O                                  .                                                                               │\n",
      "│                                        .                                                                              │\n",
      "│                                         .                                                                             │\n",
      "│                .............x            .                                                                            │\n",
      "│               x                           x                                                                           │\n",
      "│                                                                                                                       │\n",
      "│                                                                                                                       │\n",
      "│                                                                                                   Z                   │\n",
      "│                                                                                                                       │\n",
      "│ O     O                                                                                                               │\n",
      "└───────────────────────────────────────────────────────────────────────────────────────────────────────────────────────┘\n"
     ]
    }
   ],
   "source": [
    "cnv.show()"
   ]
  },
  {
   "cell_type": "code",
   "execution_count": null,
   "metadata": {},
   "outputs": [],
   "source": []
  },
  {
   "cell_type": "code",
   "execution_count": null,
   "metadata": {},
   "outputs": [],
   "source": []
  }
 ],
 "metadata": {
  "kernelspec": {
   "display_name": "Python 3",
   "language": "python",
   "name": "python3"
  },
  "language_info": {
   "codemirror_mode": {
    "name": "ipython",
    "version": 3
   },
   "file_extension": ".py",
   "mimetype": "text/x-python",
   "name": "python",
   "nbconvert_exporter": "python",
   "pygments_lexer": "ipython3",
   "version": "3.7.3"
  }
 },
 "nbformat": 4,
 "nbformat_minor": 2
}
