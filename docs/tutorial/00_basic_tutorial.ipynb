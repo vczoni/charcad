{
 "cells": [
  {
   "cell_type": "code",
   "execution_count": 1,
   "metadata": {},
   "outputs": [],
   "source": [
    "import sys\n",
    "sys.path.append('../..')"
   ]
  },
  {
   "cell_type": "code",
   "execution_count": 2,
   "metadata": {},
   "outputs": [],
   "source": [
    "import charcad as ch"
   ]
  },
  {
   "cell_type": "markdown",
   "metadata": {},
   "source": [
    "# Basic operations & drawings with Canvas"
   ]
  },
  {
   "cell_type": "code",
   "execution_count": 3,
   "metadata": {},
   "outputs": [
    {
     "name": "stdout",
     "output_type": "stream",
     "text": [
      "  ┌──────────────────────────────────────────────────┐\n",
      "10│                                                  │\n",
      "09│                                                  │\n",
      "08│                                                  │\n",
      "07│                                                  │\n",
      "06│                                                  │\n",
      "05│                                                  │\n",
      "04│                                                  │\n",
      "03│                                                  │\n",
      "02│                                                  │\n",
      "01│                                                  │\n",
      "00│                                                  │\n",
      "  └──────────────────────────────────────────────────┘\n",
      "   01234567890123456789012345678901234567890123456789 \n",
      "   0         1         2         3         4          \n"
     ]
    }
   ],
   "source": [
    "cnv = ch.Canvas(w=50, h=11)\n",
    "cnv.show(frame=True, axes=True)"
   ]
  },
  {
   "cell_type": "markdown",
   "metadata": {},
   "source": [
    "### Adding graphic objects"
   ]
  },
  {
   "cell_type": "code",
   "execution_count": 4,
   "metadata": {},
   "outputs": [],
   "source": [
    "cnv.add_object(ch.Point(3, 3))\n",
    "cnv.add_object(ch.Point(marker='o'))"
   ]
  },
  {
   "cell_type": "markdown",
   "metadata": {},
   "source": [
    "### Drawing Points"
   ]
  },
  {
   "cell_type": "code",
   "execution_count": 5,
   "metadata": {},
   "outputs": [],
   "source": [
    "cnv.draw.point(ch.Point(24, 5, 'x'))\n",
    "cnv.draw.point((8, 8))"
   ]
  },
  {
   "cell_type": "code",
   "execution_count": 6,
   "metadata": {},
   "outputs": [
    {
     "data": {
      "text/plain": [
       "Graphic Object Array[\n",
       "  0\tobject_0000: Point(3, 3, .),\n",
       "  1\tobject_0001: Point(0, 0, o),\n",
       "  2\tobject_0002: Point(24, 5, x),\n",
       "  3\tobject_0003: Point(8, 8, .)\n",
       "]"
      ]
     },
     "execution_count": 6,
     "metadata": {},
     "output_type": "execute_result"
    }
   ],
   "source": [
    "cnv.objects"
   ]
  },
  {
   "cell_type": "code",
   "execution_count": 7,
   "metadata": {},
   "outputs": [
    {
     "name": "stdout",
     "output_type": "stream",
     "text": [
      "  ┌──────────────────────────────────────────────────┐\n",
      "10│                                                  │\n",
      "09│                                                  │\n",
      "08│        \u001b[0;38;48m.\u001b[0m                                         │\n",
      "07│                                                  │\n",
      "06│                                                  │\n",
      "05│                        \u001b[0;38;48mx\u001b[0m                         │\n",
      "04│                                                  │\n",
      "03│   \u001b[0;38;48m.\u001b[0m                                              │\n",
      "02│                                                  │\n",
      "01│                                                  │\n",
      "00│\u001b[0;38;48mo\u001b[0m                                                 │\n",
      "  └──────────────────────────────────────────────────┘\n",
      "   01234567890123456789012345678901234567890123456789 \n",
      "   0         1         2         3         4          \n"
     ]
    }
   ],
   "source": [
    "cnv.show(axes=True, frame=True)"
   ]
  },
  {
   "cell_type": "markdown",
   "metadata": {},
   "source": [
    "### Drawing Lines"
   ]
  },
  {
   "cell_type": "markdown",
   "metadata": {},
   "source": [
    "#### Orthogonal lines"
   ]
  },
  {
   "cell_type": "code",
   "execution_count": 8,
   "metadata": {},
   "outputs": [
    {
     "name": "stdout",
     "output_type": "stream",
     "text": [
      "  ┌──────────────────────────────────────────────────┐\n",
      "10│                                                  │\n",
      "09│                                                  │\n",
      "08│        \u001b[0;38;48m.\u001b[0m                                         │\n",
      "07│                                                  │\n",
      "06│                                                  │\n",
      "05│                        \u001b[0;38;48mx\u001b[0m                         │\n",
      "04│                          \u001b[0;38;48m│\u001b[0m                       │\n",
      "03│   \u001b[0;38;48m.\u001b[0m                      \u001b[0;38;48m│\u001b[0m                       │\n",
      "02│                          \u001b[0;38;48m│\u001b[0m                       │\n",
      "01│                          \u001b[0;38;48m│\u001b[0m                       │\n",
      "00│\u001b[0;38;48mo\u001b[0m                    \u001b[0;38;48m─\u001b[0m\u001b[0;38;48m─\u001b[0m\u001b[0;38;48m─\u001b[0m\u001b[0;38;48m─\u001b[0m\u001b[0;38;48m─\u001b[0m    \u001b[0;38;48m_\u001b[0m\u001b[0;38;48m_\u001b[0m\u001b[0;38;48m_\u001b[0m\u001b[0;38;48m_\u001b[0m\u001b[0;38;48m_\u001b[0m\u001b[0;38;48m_\u001b[0m\u001b[0;38;48m_\u001b[0m\u001b[0;38;48m_\u001b[0m\u001b[0;38;48m_\u001b[0m\u001b[0;38;48m_\u001b[0m          │\n",
      "  └──────────────────────────────────────────────────┘\n",
      "   01234567890123456789012345678901234567890123456789 \n",
      "   0         1         2         3         4          \n"
     ]
    }
   ],
   "source": [
    "cnv.draw.line.horizontal(21, 0, 5)\n",
    "cnv.draw.line.vertical(26, 1, 4)\n",
    "cnv.draw.line('horizontal', 30, 0, 10, marker='_')\n",
    "cnv.show(True, True)"
   ]
  },
  {
   "cell_type": "markdown",
   "metadata": {},
   "source": [
    "#### Routes"
   ]
  },
  {
   "cell_type": "code",
   "execution_count": 9,
   "metadata": {},
   "outputs": [
    {
     "name": "stdout",
     "output_type": "stream",
     "text": [
      "  ┌──────────────────────────────────────────────────┐\n",
      "10│                                                  │\n",
      "09│                  \u001b[0;38;48m.\u001b[0m\u001b[0;38;48m.\u001b[0m\u001b[0;38;48m.\u001b[0m\u001b[0;38;48m.\u001b[0m\u001b[0;38;48m.\u001b[0m\u001b[0;38;48m.\u001b[0m\u001b[0;38;48m.\u001b[0m\u001b[0;38;48m.\u001b[0m\u001b[0;38;48m.\u001b[0m\u001b[0;38;48m.\u001b[0m\u001b[0;38;48m.\u001b[0m\u001b[0;38;48m.\u001b[0m\u001b[0;38;48m.\u001b[0m                   │\n",
      "08│        \u001b[0;38;48m.\u001b[0m        \u001b[0;38;48m.\u001b[0m             \u001b[0;38;48m.\u001b[0m                  │\n",
      "07│                \u001b[0;38;48m.\u001b[0m              \u001b[0;38;48m.\u001b[0m                  │\n",
      "06│               \u001b[0;38;48m.\u001b[0m               \u001b[0;38;48m.\u001b[0m                  │\n",
      "05│              \u001b[0;38;48m.\u001b[0m         \u001b[0;38;48mx\u001b[0m      \u001b[0;38;48m.\u001b[0m                  │\n",
      "04│                          \u001b[0;38;48m│\u001b[0m    \u001b[0;38;48m.\u001b[0m                  │\n",
      "03│   \u001b[0;38;48m.\u001b[0m                      \u001b[0;38;48m│\u001b[0m    \u001b[0;38;48m.\u001b[0m                  │\n",
      "02│                          \u001b[0;38;48m│\u001b[0m    \u001b[0;38;48m.\u001b[0m                  │\n",
      "01│                          \u001b[0;38;48m│\u001b[0m    \u001b[0;38;48m.\u001b[0m                  │\n",
      "00│\u001b[0;38;48mo\u001b[0m                    \u001b[0;38;48m─\u001b[0m\u001b[0;38;48m─\u001b[0m\u001b[0;38;48m─\u001b[0m\u001b[0;38;48m─\u001b[0m\u001b[0;38;48m─\u001b[0m    \u001b[0;38;48m_\u001b[0m\u001b[0;38;48m_\u001b[0m\u001b[0;38;48m_\u001b[0m\u001b[0;38;48m_\u001b[0m\u001b[0;38;48m_\u001b[0m\u001b[0;38;48m_\u001b[0m\u001b[0;38;48m_\u001b[0m\u001b[0;38;48m_\u001b[0m\u001b[0;38;48m_\u001b[0m\u001b[0;38;48m_\u001b[0m          │\n",
      "  └──────────────────────────────────────────────────┘\n",
      "   01234567890123456789012345678901234567890123456789 \n",
      "   0         1         2         3         4          \n"
     ]
    }
   ],
   "source": [
    "cnv.draw.line.route((14, 5), (30, 9), (31, 1))\n",
    "cnv.show(axes=True, frame=True)"
   ]
  },
  {
   "cell_type": "markdown",
   "metadata": {},
   "source": [
    "#### objects without transparent backgrounds"
   ]
  },
  {
   "cell_type": "code",
   "execution_count": 10,
   "metadata": {},
   "outputs": [
    {
     "name": "stdout",
     "output_type": "stream",
     "text": [
      "  ┌──────────────────────────────────────────────────┐\n",
      "10│                     \u001b[0;38;48mo\u001b[0m\u001b[0;38;48mo\u001b[0m\u001b[0;38;48mo\u001b[0m\u001b[0;38;48mo\u001b[0m\u001b[0;38;48mo\u001b[0m\u001b[0;38;48mo\u001b[0m\u001b[0;38;48mo\u001b[0m\u001b[0;38;48mo\u001b[0m\u001b[0;38;48mo\u001b[0m\u001b[0;38;48mo\u001b[0m                   │\n",
      "09│                    \u001b[0;38;48mo\u001b[0m          \u001b[0;38;48mo\u001b[0m                  │\n",
      "08│        \u001b[0;38;48m.\u001b[0m          \u001b[0;38;48mo\u001b[0m            \u001b[0;38;48mo\u001b[0m                 │\n",
      "07│                \u001b[0;38;48m.\u001b[0m \u001b[0;38;48mo\u001b[0m             \u001b[0;38;48mo\u001b[0m                 │\n",
      "06│               \u001b[0;38;48m.\u001b[0m \u001b[0;38;48mx\u001b[0m              \u001b[0;38;48mo\u001b[0m                 │\n",
      "05│              \u001b[0;38;48m.\u001b[0m                 \u001b[0;38;48mo\u001b[0m                 │\n",
      "04│                                \u001b[0;38;48mx\u001b[0m                 │\n",
      "03│   \u001b[0;38;48m.\u001b[0m                      \u001b[0;38;48m│\u001b[0m    \u001b[0;38;48m.\u001b[0m                  │\n",
      "02│                          \u001b[0;38;48m│\u001b[0m    \u001b[0;38;48m.\u001b[0m                  │\n",
      "01│                          \u001b[0;38;48m│\u001b[0m    \u001b[0;38;48m.\u001b[0m                  │\n",
      "00│\u001b[0;38;48mo\u001b[0m                    \u001b[0;38;48m─\u001b[0m\u001b[0;38;48m─\u001b[0m\u001b[0;38;48m─\u001b[0m\u001b[0;38;48m─\u001b[0m\u001b[0;38;48m─\u001b[0m    \u001b[0;38;48m_\u001b[0m\u001b[0;38;48m_\u001b[0m\u001b[0;38;48m_\u001b[0m\u001b[0;38;48m_\u001b[0m\u001b[0;38;48m_\u001b[0m\u001b[0;38;48m_\u001b[0m\u001b[0;38;48m_\u001b[0m\u001b[0;38;48m_\u001b[0m\u001b[0;38;48m_\u001b[0m\u001b[0;38;48m_\u001b[0m          │\n",
      "  └──────────────────────────────────────────────────┘\n",
      "   01234567890123456789012345678901234567890123456789 \n",
      "   0         1         2         3         4          \n"
     ]
    }
   ],
   "source": [
    "cnv.draw.line.route((17, 6), (30, 10), (32, 4), marker='o', origin_marker='x', transparent=False)\n",
    "cnv.show(axes=True, frame=True)"
   ]
  },
  {
   "cell_type": "markdown",
   "metadata": {},
   "source": [
    "The rectangle that fits the 'o' route blocks part of the '.' route, part of the vertical line and the 'x' point, making them invisible"
   ]
  },
  {
   "cell_type": "markdown",
   "metadata": {},
   "source": [
    "### Resetting transparency"
   ]
  },
  {
   "cell_type": "code",
   "execution_count": 11,
   "metadata": {},
   "outputs": [
    {
     "data": {
      "text/plain": [
       "Graphic Object Array[\n",
       "  0\tobject_0000: Point(3, 3, .),\n",
       "  1\tobject_0001: Point(0, 0, o),\n",
       "  2\tobject_0002: Point(24, 5, x),\n",
       "  3\tobject_0003: Point(8, 8, .),\n",
       "  4\tobject_0004: Line at <139895749547984>,\n",
       "  5\tobject_0005: Line at <139895749548240>,\n",
       "  6\tobject_0006: Line at <139895749918416>,\n",
       "  7\tobject_0007: Route at <139895749546128>,\n",
       "  8\tobject_0008: Route at <139895749297104>\n",
       "]"
      ]
     },
     "execution_count": 11,
     "metadata": {},
     "output_type": "execute_result"
    }
   ],
   "source": [
    "cnv.objects"
   ]
  },
  {
   "cell_type": "code",
   "execution_count": 12,
   "metadata": {},
   "outputs": [
    {
     "name": "stdout",
     "output_type": "stream",
     "text": [
      "  ┌──────────────────────────────────────────────────┐\n",
      "10│                     \u001b[0;38;48mo\u001b[0m\u001b[0;38;48mo\u001b[0m\u001b[0;38;48mo\u001b[0m\u001b[0;38;48mo\u001b[0m\u001b[0;38;48mo\u001b[0m\u001b[0;38;48mo\u001b[0m\u001b[0;38;48mo\u001b[0m\u001b[0;38;48mo\u001b[0m\u001b[0;38;48mo\u001b[0m\u001b[0;38;48mo\u001b[0m                   │\n",
      "09│                  \u001b[0;38;48m.\u001b[0m\u001b[0;38;48m.\u001b[0m\u001b[0;38;48mo\u001b[0m\u001b[0;38;48m.\u001b[0m\u001b[0;38;48m.\u001b[0m\u001b[0;38;48m.\u001b[0m\u001b[0;38;48m.\u001b[0m\u001b[0;38;48m.\u001b[0m\u001b[0;38;48m.\u001b[0m\u001b[0;38;48m.\u001b[0m\u001b[0;38;48m.\u001b[0m\u001b[0;38;48m.\u001b[0m\u001b[0;38;48m.\u001b[0m\u001b[0;38;48mo\u001b[0m                  │\n",
      "08│        \u001b[0;38;48m.\u001b[0m        \u001b[0;38;48m.\u001b[0m \u001b[0;38;48mo\u001b[0m           \u001b[0;38;48m.\u001b[0m\u001b[0;38;48mo\u001b[0m                 │\n",
      "07│                \u001b[0;38;48m.\u001b[0m \u001b[0;38;48mo\u001b[0m            \u001b[0;38;48m.\u001b[0m\u001b[0;38;48mo\u001b[0m                 │\n",
      "06│               \u001b[0;38;48m.\u001b[0m \u001b[0;38;48mx\u001b[0m             \u001b[0;38;48m.\u001b[0m\u001b[0;38;48mo\u001b[0m                 │\n",
      "05│              \u001b[0;38;48m.\u001b[0m         \u001b[0;38;48mx\u001b[0m      \u001b[0;38;48m.\u001b[0m\u001b[0;38;48mo\u001b[0m                 │\n",
      "04│                          \u001b[0;38;48m│\u001b[0m    \u001b[0;38;48m.\u001b[0m\u001b[0;38;48mx\u001b[0m                 │\n",
      "03│   \u001b[0;38;48m.\u001b[0m                      \u001b[0;38;48m│\u001b[0m    \u001b[0;38;48m.\u001b[0m                  │\n",
      "02│                          \u001b[0;38;48m│\u001b[0m    \u001b[0;38;48m.\u001b[0m                  │\n",
      "01│                          \u001b[0;38;48m│\u001b[0m    \u001b[0;38;48m.\u001b[0m                  │\n",
      "00│\u001b[0;38;48mo\u001b[0m                    \u001b[0;38;48m─\u001b[0m\u001b[0;38;48m─\u001b[0m\u001b[0;38;48m─\u001b[0m\u001b[0;38;48m─\u001b[0m\u001b[0;38;48m─\u001b[0m    \u001b[0;38;48m_\u001b[0m\u001b[0;38;48m_\u001b[0m\u001b[0;38;48m_\u001b[0m\u001b[0;38;48m_\u001b[0m\u001b[0;38;48m_\u001b[0m\u001b[0;38;48m_\u001b[0m\u001b[0;38;48m_\u001b[0m\u001b[0;38;48m_\u001b[0m\u001b[0;38;48m_\u001b[0m\u001b[0;38;48m_\u001b[0m          │\n",
      "  └──────────────────────────────────────────────────┘\n",
      "   01234567890123456789012345678901234567890123456789 \n",
      "   0         1         2         3         4          \n"
     ]
    }
   ],
   "source": [
    "cnv.objects[-1].set_transparency(transparent=True)\n",
    "cnv.show(True, True)"
   ]
  },
  {
   "cell_type": "markdown",
   "metadata": {},
   "source": [
    "There they are!"
   ]
  },
  {
   "cell_type": "markdown",
   "metadata": {},
   "source": [
    "### Removing objects from canvas"
   ]
  },
  {
   "cell_type": "code",
   "execution_count": 13,
   "metadata": {},
   "outputs": [
    {
     "data": {
      "text/plain": [
       "Graphic Object Array[\n",
       "  0\tobject_0000: Point(3, 3, .),\n",
       "  1\tobject_0001: Point(0, 0, o),\n",
       "  2\tobject_0002: Point(24, 5, x),\n",
       "  3\tobject_0003: Point(8, 8, .),\n",
       "  4\tobject_0004: Line at <139895749547984>,\n",
       "  5\tobject_0005: Line at <139895749548240>,\n",
       "  6\tobject_0006: Line at <139895749918416>,\n",
       "  7\tobject_0007: Route at <139895749546128>,\n",
       "  8\tobject_0008: Route at <139895749297104>\n",
       "]"
      ]
     },
     "execution_count": 13,
     "metadata": {},
     "output_type": "execute_result"
    }
   ],
   "source": [
    "cnv.objects"
   ]
  },
  {
   "cell_type": "code",
   "execution_count": 14,
   "metadata": {},
   "outputs": [
    {
     "data": {
      "text/plain": [
       "Graphic Object Array[\n",
       "  0\tobject_0000: Point(3, 3, .),\n",
       "  1\tobject_0001: Point(0, 0, o),\n",
       "  2\tobject_0003: Point(8, 8, .),\n",
       "  3\tobject_0004: Line at <139895749547984>,\n",
       "  4\tobject_0005: Line at <139895749548240>,\n",
       "  5\tobject_0006: Line at <139895749918416>,\n",
       "  6\tobject_0007: Route at <139895749546128>,\n",
       "  7\tobject_0008: Route at <139895749297104>\n",
       "]"
      ]
     },
     "execution_count": 14,
     "metadata": {},
     "output_type": "execute_result"
    }
   ],
   "source": [
    "cnv.objects.remove('object_0002')\n",
    "cnv.objects"
   ]
  },
  {
   "cell_type": "code",
   "execution_count": 15,
   "metadata": {},
   "outputs": [
    {
     "data": {
      "text/plain": [
       "Graphic Object Array[\n",
       "  0\tobject_0003: Point(8, 8, .),\n",
       "  1\tobject_0005: Line at <139895749548240>,\n",
       "  2\tobject_0006: Line at <139895749918416>,\n",
       "  3\tobject_0007: Route at <139895749546128>,\n",
       "  4\tobject_0008: Route at <139895749297104>\n",
       "]"
      ]
     },
     "execution_count": 15,
     "metadata": {},
     "output_type": "execute_result"
    }
   ],
   "source": [
    "cnv.remove_object((0, 3, 1))\n",
    "cnv.objects"
   ]
  },
  {
   "cell_type": "markdown",
   "metadata": {},
   "source": [
    "#### undo() - remove last object"
   ]
  },
  {
   "cell_type": "code",
   "execution_count": 16,
   "metadata": {},
   "outputs": [
    {
     "data": {
      "text/plain": [
       "Graphic Object Array[\n",
       "  0\tobject_0003: Point(8, 8, .),\n",
       "  1\tobject_0005: Line at <139895749548240>,\n",
       "  2\tobject_0006: Line at <139895749918416>,\n",
       "  3\tobject_0007: Route at <139895749546128>\n",
       "]"
      ]
     },
     "execution_count": 16,
     "metadata": {},
     "output_type": "execute_result"
    }
   ],
   "source": [
    "cnv.undo()\n",
    "cnv.objects"
   ]
  },
  {
   "cell_type": "code",
   "execution_count": 17,
   "metadata": {},
   "outputs": [
    {
     "name": "stdout",
     "output_type": "stream",
     "text": [
      "┌──────────────────────────────────────────────────┐\n",
      "│                                                  │\n",
      "│                  \u001b[0;38;48m.\u001b[0m\u001b[0;38;48m.\u001b[0m\u001b[0;38;48m.\u001b[0m\u001b[0;38;48m.\u001b[0m\u001b[0;38;48m.\u001b[0m\u001b[0;38;48m.\u001b[0m\u001b[0;38;48m.\u001b[0m\u001b[0;38;48m.\u001b[0m\u001b[0;38;48m.\u001b[0m\u001b[0;38;48m.\u001b[0m\u001b[0;38;48m.\u001b[0m\u001b[0;38;48m.\u001b[0m\u001b[0;38;48m.\u001b[0m                   │\n",
      "│        \u001b[0;38;48m.\u001b[0m        \u001b[0;38;48m.\u001b[0m             \u001b[0;38;48m.\u001b[0m                  │\n",
      "│                \u001b[0;38;48m.\u001b[0m              \u001b[0;38;48m.\u001b[0m                  │\n",
      "│               \u001b[0;38;48m.\u001b[0m               \u001b[0;38;48m.\u001b[0m                  │\n",
      "│              \u001b[0;38;48m.\u001b[0m                \u001b[0;38;48m.\u001b[0m                  │\n",
      "│                          \u001b[0;38;48m│\u001b[0m    \u001b[0;38;48m.\u001b[0m                  │\n",
      "│                          \u001b[0;38;48m│\u001b[0m    \u001b[0;38;48m.\u001b[0m                  │\n",
      "│                          \u001b[0;38;48m│\u001b[0m    \u001b[0;38;48m.\u001b[0m                  │\n",
      "│                          \u001b[0;38;48m│\u001b[0m    \u001b[0;38;48m.\u001b[0m                  │\n",
      "│                              \u001b[0;38;48m_\u001b[0m\u001b[0;38;48m_\u001b[0m\u001b[0;38;48m_\u001b[0m\u001b[0;38;48m_\u001b[0m\u001b[0;38;48m_\u001b[0m\u001b[0;38;48m_\u001b[0m\u001b[0;38;48m_\u001b[0m\u001b[0;38;48m_\u001b[0m\u001b[0;38;48m_\u001b[0m\u001b[0;38;48m_\u001b[0m          │\n",
      "└──────────────────────────────────────────────────┘\n"
     ]
    }
   ],
   "source": [
    "cnv.show(frame=True)"
   ]
  },
  {
   "cell_type": "markdown",
   "metadata": {},
   "source": [
    "### Internal objects also can be printed with a frame and axes (you just have to access their 'graph' object)"
   ]
  },
  {
   "cell_type": "code",
   "execution_count": 18,
   "metadata": {},
   "outputs": [
    {
     "name": "stdout",
     "output_type": "stream",
     "text": [
      "  ┌──────────────────┐\n",
      "08│    \u001b[0;38;48m.\u001b[0m\u001b[0;38;48m.\u001b[0m\u001b[0;38;48m.\u001b[0m\u001b[0;38;48m.\u001b[0m\u001b[0;38;48m.\u001b[0m\u001b[0;38;48m.\u001b[0m\u001b[0;38;48m.\u001b[0m\u001b[0;38;48m.\u001b[0m\u001b[0;38;48m.\u001b[0m\u001b[0;38;48m.\u001b[0m\u001b[0;38;48m.\u001b[0m\u001b[0;38;48m.\u001b[0m\u001b[0;38;48m.\u001b[0m │\n",
      "07│   \u001b[0;38;48m.\u001b[0m             \u001b[0;38;48m.\u001b[0m│\n",
      "06│  \u001b[0;38;48m.\u001b[0m              \u001b[0;38;48m.\u001b[0m│\n",
      "05│ \u001b[0;38;48m.\u001b[0m               \u001b[0;38;48m.\u001b[0m│\n",
      "04│\u001b[0;38;48m.\u001b[0m                \u001b[0;38;48m.\u001b[0m│\n",
      "03│                 \u001b[0;38;48m.\u001b[0m│\n",
      "02│                 \u001b[0;38;48m.\u001b[0m│\n",
      "01│                 \u001b[0;38;48m.\u001b[0m│\n",
      "00│                 \u001b[0;38;48m.\u001b[0m│\n",
      "  └──────────────────┘\n",
      "   012345678901234567 \n",
      "   0         1        \n"
     ]
    }
   ],
   "source": [
    "cnv.objects[3].graph.print(True, True)"
   ]
  },
  {
   "cell_type": "markdown",
   "metadata": {},
   "source": [
    "# Drawing blocks"
   ]
  },
  {
   "cell_type": "code",
   "execution_count": 19,
   "metadata": {},
   "outputs": [
    {
     "name": "stdout",
     "output_type": "stream",
     "text": [
      "┌─────────────┐\n",
      "│             │\n",
      "│             │\n",
      "│             │\n",
      "│             │\n",
      "│             │\n",
      "└─────────────┘\n"
     ]
    }
   ],
   "source": [
    "blk = ch.Block(13, 5)\n",
    "blk.show()"
   ]
  },
  {
   "cell_type": "markdown",
   "metadata": {},
   "source": [
    "### Blocks are just a mini-canvas "
   ]
  },
  {
   "cell_type": "code",
   "execution_count": 20,
   "metadata": {},
   "outputs": [
    {
     "name": "stdout",
     "output_type": "stream",
     "text": [
      "6┌─────────────┐\n",
      "5│             │\n",
      "4│             │\n",
      "3│   \u001b[0;38;48m─\u001b[0m\u001b[0;38;48m─\u001b[0m\u001b[0;38;48m─\u001b[0m\u001b[0;38;48m─\u001b[0m\u001b[0;38;48m─\u001b[0m\u001b[0;38;48m─\u001b[0m\u001b[0;38;48m─\u001b[0m\u001b[0;38;48m─\u001b[0m  │\n",
      "2│             │\n",
      "1│             │\n",
      "0└─────────────┘\n",
      " 012345678901234\n",
      " 0         1    \n"
     ]
    }
   ],
   "source": [
    "blk.draw.line.horizontal(4, 3, 8)\n",
    "blk.show(1)"
   ]
  },
  {
   "cell_type": "code",
   "execution_count": 21,
   "metadata": {},
   "outputs": [
    {
     "name": "stdout",
     "output_type": "stream",
     "text": [
      "┌─────────────┐\n",
      "│      ┌─────┐│\n",
      "│      │     ││\n",
      "│   \u001b[0;38;48m─\u001b[0m\u001b[0;38;48m─\u001b[0m\u001b[0;38;48m─\u001b[0m│\u001b[0;38;48m─\u001b[0m\u001b[0;38;48m─\u001b[0m\u001b[0;38;48m─\u001b[0m\u001b[0;38;48m─\u001b[0m ││\n",
      "│      │     ││\n",
      "│      └─────┘│\n",
      "└─────────────┘\n"
     ]
    }
   ],
   "source": [
    "blk2 = ch.Block(5, 3, 7, 1)\n",
    "blk.add_object(blk2)\n",
    "blk.show()"
   ]
  },
  {
   "cell_type": "code",
   "execution_count": 22,
   "metadata": {},
   "outputs": [
    {
     "name": "stdout",
     "output_type": "stream",
     "text": [
      "┌─────────────┐\n",
      "│    ┌─────┐  │\n",
      "│    │     │  │\n",
      "│   \u001b[0;38;48m─\u001b[0m│\u001b[0;38;48m─\u001b[0m\u001b[0;38;48m─\u001b[0m\u001b[0;38;48m─\u001b[0m\u001b[0;38;48m─\u001b[0m\u001b[0;38;48m─\u001b[0m│  │\n",
      "│    │     │  │\n",
      "│    └─────┘  │\n",
      "└─────────────┘\n"
     ]
    }
   ],
   "source": [
    "blk2.coord.x -= 2\n",
    "blk.show()"
   ]
  },
  {
   "cell_type": "code",
   "execution_count": 23,
   "metadata": {},
   "outputs": [
    {
     "name": "stdout",
     "output_type": "stream",
     "text": [
      "6┌─────────────┐\n",
      "5│    ┌─────┐  │\n",
      "4│    │     │  │\n",
      "3│   \u001b[0;38;48m─\u001b[0m│     │  │\n",
      "2│    │     │  │\n",
      "1│    └─────┘  │\n",
      "0└─────────────┘\n",
      " 012345678901234\n",
      " 0         1    \n"
     ]
    }
   ],
   "source": [
    "blk2.set_transparency(False)\n",
    "blk.show(True)"
   ]
  },
  {
   "cell_type": "markdown",
   "metadata": {},
   "source": [
    "### Adding block to the main canvas"
   ]
  },
  {
   "cell_type": "code",
   "execution_count": 24,
   "metadata": {},
   "outputs": [
    {
     "name": "stdout",
     "output_type": "stream",
     "text": [
      "  ┌──────────────────────────────────────────────────┐\n",
      "10│                                                  │\n",
      "09│                  \u001b[0;38;48m.\u001b[0m\u001b[0;38;48m.\u001b[0m\u001b[0;38;48m.\u001b[0m\u001b[0;38;48m.\u001b[0m\u001b[0;38;48m.\u001b[0m\u001b[0;38;48m.\u001b[0m\u001b[0;38;48m.\u001b[0m\u001b[0;38;48m.\u001b[0m\u001b[0;38;48m.\u001b[0m\u001b[0;38;48m.\u001b[0m\u001b[0;38;48m.\u001b[0m\u001b[0;38;48m.\u001b[0m\u001b[0;38;48m.\u001b[0m                   │\n",
      "08│        \u001b[0;38;48m.\u001b[0m        \u001b[0;38;48m.\u001b[0m             \u001b[0;38;48m.\u001b[0m    ┌─────────────│\n",
      "07│                \u001b[0;38;48m.\u001b[0m              \u001b[0;38;48m.\u001b[0m    │    ┌─────┐  │\n",
      "06│               \u001b[0;38;48m.\u001b[0m               \u001b[0;38;48m.\u001b[0m    │    │     │  │\n",
      "05│              \u001b[0;38;48m.\u001b[0m                \u001b[0;38;48m.\u001b[0m    │   \u001b[0;38;48m─\u001b[0m│     │  │\n",
      "04│                          \u001b[0;38;48m│\u001b[0m    \u001b[0;38;48m.\u001b[0m    │    │     │  │\n",
      "03│                          \u001b[0;38;48m│\u001b[0m    \u001b[0;38;48m.\u001b[0m    │    └─────┘  │\n",
      "02│                          \u001b[0;38;48m│\u001b[0m    \u001b[0;38;48m.\u001b[0m    └─────────────│\n",
      "01│                          \u001b[0;38;48m│\u001b[0m    \u001b[0;38;48m.\u001b[0m                  │\n",
      "00│                              \u001b[0;38;48m_\u001b[0m\u001b[0;38;48m_\u001b[0m\u001b[0;38;48m_\u001b[0m\u001b[0;38;48m_\u001b[0m\u001b[0;38;48m_\u001b[0m\u001b[0;38;48m_\u001b[0m\u001b[0;38;48m_\u001b[0m\u001b[0;38;48m_\u001b[0m\u001b[0;38;48m_\u001b[0m\u001b[0;38;48m_\u001b[0m          │\n",
      "  └──────────────────────────────────────────────────┘\n",
      "   01234567890123456789012345678901234567890123456789 \n",
      "   0         1         2         3         4          \n"
     ]
    }
   ],
   "source": [
    "cnv.add_object(blk, x=36, y=2)\n",
    "cnv.show(True, True)"
   ]
  },
  {
   "cell_type": "code",
   "execution_count": 25,
   "metadata": {},
   "outputs": [
    {
     "name": "stdout",
     "output_type": "stream",
     "text": [
      "  ┌──────────────────────────────────────────────────┐\n",
      "10│                                                  │\n",
      "09│                  \u001b[0;38;48m.\u001b[0m\u001b[0;38;48m.\u001b[0m\u001b[0;38;48m.\u001b[0m\u001b[0;38;48m.\u001b[0m\u001b[0;38;48m.\u001b[0m\u001b[0;38;48m.\u001b[0m\u001b[0;38;48m.\u001b[0m\u001b[0;38;48m.\u001b[0m\u001b[0;38;48m.\u001b[0m\u001b[0;38;48m.\u001b[0m\u001b[0;38;48m.\u001b[0m\u001b[0;38;48m.\u001b[0m\u001b[0;38;48m.\u001b[0m                   │\n",
      "08│        \u001b[0;38;48m.\u001b[0m        \u001b[0;38;48m.\u001b[0m             \u001b[0;38;48m.\u001b[0m  ┌─────────────┐ │\n",
      "07│                \u001b[0;38;48m.\u001b[0m              \u001b[0;38;48m.\u001b[0m  │    ┌─────┐  │ │\n",
      "06│               \u001b[0;38;48m.\u001b[0m               \u001b[0;38;48m.\u001b[0m  │    │     │  │ │\n",
      "05│              \u001b[0;38;48m.\u001b[0m                \u001b[0;38;48m.\u001b[0m  │   \u001b[0;38;48m─\u001b[0m│\u001b[0;38;48m─\u001b[0m\u001b[0;38;48m─\u001b[0m\u001b[0;38;48m─\u001b[0m\u001b[0;38;48m─\u001b[0m\u001b[0;38;48m─\u001b[0m│  │ │\n",
      "04│                          \u001b[0;38;48m│\u001b[0m    \u001b[0;38;48m.\u001b[0m  │    │     │  │ │\n",
      "03│                          \u001b[0;38;48m│\u001b[0m    \u001b[0;38;48m.\u001b[0m  │    └─────┘  │ │\n",
      "02│                          \u001b[0;38;48m│\u001b[0m    \u001b[0;38;48m.\u001b[0m  └─────────────┘ │\n",
      "01│                          \u001b[0;38;48m│\u001b[0m    \u001b[0;38;48m.\u001b[0m                  │\n",
      "00│                              \u001b[0;38;48m_\u001b[0m\u001b[0;38;48m_\u001b[0m\u001b[0;38;48m_\u001b[0m\u001b[0;38;48m_\u001b[0m\u001b[0;38;48m_\u001b[0m\u001b[0;38;48m_\u001b[0m\u001b[0;38;48m_\u001b[0m\u001b[0;38;48m_\u001b[0m\u001b[0;38;48m_\u001b[0m\u001b[0;38;48m_\u001b[0m          │\n",
      "  └──────────────────────────────────────────────────┘\n",
      "   01234567890123456789012345678901234567890123456789 \n",
      "   0         1         2         3         4          \n"
     ]
    }
   ],
   "source": [
    "blk.coord.x -= 2\n",
    "blk2.set_transparency(True)\n",
    "cnv.show(True, True)"
   ]
  },
  {
   "cell_type": "markdown",
   "metadata": {},
   "source": [
    "# Writing Text"
   ]
  },
  {
   "cell_type": "code",
   "execution_count": 26,
   "metadata": {},
   "outputs": [
    {
     "name": "stdout",
     "output_type": "stream",
     "text": [
      "  ┌──────────────────────────────────────────────────┐\n",
      "10│                                                  │\n",
      "09│                  \u001b[0;38;48m.\u001b[0m\u001b[0;38;48m.\u001b[0m\u001b[0;38;48m.\u001b[0m\u001b[0;38;48m.\u001b[0m\u001b[0;38;48m.\u001b[0m\u001b[0;38;48m.\u001b[0m\u001b[0;38;48m.\u001b[0m\u001b[0;38;48m.\u001b[0m\u001b[0;38;48m.\u001b[0m\u001b[0;38;48m.\u001b[0m\u001b[0;38;48m.\u001b[0m\u001b[0;38;48m.\u001b[0m\u001b[0;38;48m.\u001b[0m                   │\n",
      "08│        \u001b[0;38;48m.\u001b[0m        \u001b[0;38;48m.\u001b[0m             \u001b[0;38;48m.\u001b[0m  ┌─────────────┐ │\n",
      "07│                \u001b[0;38;48m.\u001b[0m              \u001b[0;38;48m.\u001b[0m  │    ┌─────┐  │ │\n",
      "06│               \u001b[0;38;48m.\u001b[0m               \u001b[0;38;48m.\u001b[0m  │    │     │  │ │\n",
      "05│     \u001b[0;38;48mT\u001b[0m\u001b[0;38;48mE\u001b[0m\u001b[0;38;48mS\u001b[0m\u001b[0;38;48mT\u001b[0m     \u001b[0;38;48m.\u001b[0m                \u001b[0;38;48m.\u001b[0m  │   \u001b[0;38;48m─\u001b[0m│\u001b[0;38;48m─\u001b[0m\u001b[0;38;48m─\u001b[0m\u001b[0;38;48m─\u001b[0m\u001b[0;38;48m─\u001b[0m\u001b[0;38;48m─\u001b[0m│  │ │\n",
      "04│                          \u001b[0;38;48m│\u001b[0m    \u001b[0;38;48m.\u001b[0m  │    │     │  │ │\n",
      "03│                          \u001b[0;38;48m│\u001b[0m    \u001b[0;38;48m.\u001b[0m  │    └─────┘  │ │\n",
      "02│     \u001b[0;38;48mH\u001b[0m\u001b[0;38;48me\u001b[0m\u001b[0;38;48ml\u001b[0m\u001b[0;38;48ml\u001b[0m\u001b[0;38;48mo\u001b[0m\u001b[0;38;48m \u001b[0m\u001b[0;38;48mW\u001b[0m\u001b[0;38;48mo\u001b[0m\u001b[0;38;48mr\u001b[0m\u001b[0;38;48ml\u001b[0m\u001b[0;38;48md\u001b[0m\u001b[0;38;48m.\u001b[0m         \u001b[0;38;48m│\u001b[0m    \u001b[0;38;48m.\u001b[0m  └─────────────┘ │\n",
      "01│                          \u001b[0;38;48m│\u001b[0m    \u001b[0;38;48m.\u001b[0m                  │\n",
      "00│                              \u001b[0;38;48m_\u001b[0m\u001b[0;38;48m_\u001b[0m\u001b[0;38;48m_\u001b[0m\u001b[0;38;48m_\u001b[0m\u001b[0;38;48m_\u001b[0m\u001b[0;38;48m_\u001b[0m\u001b[0;38;48m_\u001b[0m\u001b[0;38;48m_\u001b[0m\u001b[0;38;48m_\u001b[0m\u001b[0;38;48m_\u001b[0m          │\n",
      "  └──────────────────────────────────────────────────┘\n",
      "   01234567890123456789012345678901234567890123456789 \n",
      "   0         1         2         3         4          \n"
     ]
    }
   ],
   "source": [
    "txt0 = ch.Text(5, 2, text='Hello World.')\n",
    "\n",
    "cnv.add_object(txt0)\n",
    "cnv.draw.text('TEST', 5, 5)\n",
    "\n",
    "cnv.show(True, True)"
   ]
  },
  {
   "cell_type": "markdown",
   "metadata": {},
   "source": [
    "### Multiline"
   ]
  },
  {
   "cell_type": "code",
   "execution_count": 27,
   "metadata": {},
   "outputs": [],
   "source": [
    "txtstr = ['Hi!', 'My Name Is', 'Slim Shady']\n",
    "txt2 = ch.Text(20, 8, text=txtstr)"
   ]
  },
  {
   "cell_type": "code",
   "execution_count": 28,
   "metadata": {},
   "outputs": [
    {
     "name": "stdout",
     "output_type": "stream",
     "text": [
      "  ┌──────────────────────────────────────────────────┐\n",
      "10│                                                  │\n",
      "09│                  \u001b[0;38;48m.\u001b[0m\u001b[0;38;48m.\u001b[0m\u001b[0;38;48m.\u001b[0m\u001b[0;38;48m.\u001b[0m\u001b[0;38;48m.\u001b[0m\u001b[0;38;48m.\u001b[0m\u001b[0;38;48m.\u001b[0m\u001b[0;38;48m.\u001b[0m\u001b[0;38;48m.\u001b[0m\u001b[0;38;48m.\u001b[0m\u001b[0;38;48m.\u001b[0m\u001b[0;38;48m.\u001b[0m\u001b[0;38;48m.\u001b[0m                   │\n",
      "08│        \u001b[0;38;48m.\u001b[0m        \u001b[0;38;48m.\u001b[0m     \u001b[0;38;48mH\u001b[0m\u001b[0;38;48mi\u001b[0m\u001b[0;38;48m!\u001b[0m     \u001b[0;38;48m.\u001b[0m  ┌─────────────┐ │\n",
      "07│                \u001b[0;38;48m.\u001b[0m   \u001b[0;38;48mM\u001b[0m\u001b[0;38;48my\u001b[0m\u001b[0;38;48m \u001b[0m\u001b[0;38;48mN\u001b[0m\u001b[0;38;48ma\u001b[0m\u001b[0;38;48mm\u001b[0m\u001b[0;38;48me\u001b[0m\u001b[0;38;48m \u001b[0m\u001b[0;38;48mI\u001b[0m\u001b[0;38;48ms\u001b[0m \u001b[0;38;48m.\u001b[0m  │    ┌─────┐  │ │\n",
      "06│               \u001b[0;38;48m.\u001b[0m    \u001b[0;38;48mS\u001b[0m\u001b[0;38;48ml\u001b[0m\u001b[0;38;48mi\u001b[0m\u001b[0;38;48mm\u001b[0m\u001b[0;38;48m \u001b[0m\u001b[0;38;48mS\u001b[0m\u001b[0;38;48mh\u001b[0m\u001b[0;38;48ma\u001b[0m\u001b[0;38;48md\u001b[0m\u001b[0;38;48my\u001b[0m \u001b[0;38;48m.\u001b[0m  │    │     │  │ │\n",
      "05│     \u001b[0;38;48mT\u001b[0m\u001b[0;38;48mE\u001b[0m\u001b[0;38;48mS\u001b[0m\u001b[0;38;48mT\u001b[0m     \u001b[0;38;48m.\u001b[0m                \u001b[0;38;48m.\u001b[0m  │   \u001b[0;38;48m─\u001b[0m│\u001b[0;38;48m─\u001b[0m\u001b[0;38;48m─\u001b[0m\u001b[0;38;48m─\u001b[0m\u001b[0;38;48m─\u001b[0m\u001b[0;38;48m─\u001b[0m│  │ │\n",
      "04│                          \u001b[0;38;48m│\u001b[0m    \u001b[0;38;48m.\u001b[0m  │    │     │  │ │\n",
      "03│                          \u001b[0;38;48m│\u001b[0m    \u001b[0;38;48m.\u001b[0m  │    └─────┘  │ │\n",
      "02│     \u001b[0;38;48mH\u001b[0m\u001b[0;38;48me\u001b[0m\u001b[0;38;48ml\u001b[0m\u001b[0;38;48ml\u001b[0m\u001b[0;38;48mo\u001b[0m\u001b[0;38;48m \u001b[0m\u001b[0;38;48mW\u001b[0m\u001b[0;38;48mo\u001b[0m\u001b[0;38;48mr\u001b[0m\u001b[0;38;48ml\u001b[0m\u001b[0;38;48md\u001b[0m\u001b[0;38;48m.\u001b[0m         \u001b[0;38;48m│\u001b[0m    \u001b[0;38;48m.\u001b[0m  └─────────────┘ │\n",
      "01│                          \u001b[0;38;48m│\u001b[0m    \u001b[0;38;48m.\u001b[0m                  │\n",
      "00│                              \u001b[0;38;48m_\u001b[0m\u001b[0;38;48m_\u001b[0m\u001b[0;38;48m_\u001b[0m\u001b[0;38;48m_\u001b[0m\u001b[0;38;48m_\u001b[0m\u001b[0;38;48m_\u001b[0m\u001b[0;38;48m_\u001b[0m\u001b[0;38;48m_\u001b[0m\u001b[0;38;48m_\u001b[0m\u001b[0;38;48m_\u001b[0m          │\n",
      "  └──────────────────────────────────────────────────┘\n",
      "   01234567890123456789012345678901234567890123456789 \n",
      "   0         1         2         3         4          \n"
     ]
    }
   ],
   "source": [
    "cnv.add_object(txt2)\n",
    "cnv.show(True, True)"
   ]
  },
  {
   "cell_type": "markdown",
   "metadata": {},
   "source": [
    "### Align"
   ]
  },
  {
   "cell_type": "code",
   "execution_count": 29,
   "metadata": {},
   "outputs": [
    {
     "name": "stdout",
     "output_type": "stream",
     "text": [
      "  ┌──────────────────────────────────────────────────┐\n",
      "10│                                                  │\n",
      "09│                  \u001b[0;38;48m.\u001b[0m\u001b[0;38;48m.\u001b[0m\u001b[0;38;48m.\u001b[0m\u001b[0;38;48m.\u001b[0m\u001b[0;38;48m.\u001b[0m\u001b[0;38;48m.\u001b[0m\u001b[0;38;48m.\u001b[0m\u001b[0;38;48m.\u001b[0m\u001b[0;38;48m.\u001b[0m\u001b[0;38;48m.\u001b[0m\u001b[0;38;48m.\u001b[0m\u001b[0;38;48m.\u001b[0m\u001b[0;38;48m.\u001b[0m                   │\n",
      "08│        \u001b[0;38;48m.\u001b[0m        \u001b[0;38;48m.\u001b[0m         \u001b[0;38;48mH\u001b[0m\u001b[0;38;48mi\u001b[0m\u001b[0;38;48m!\u001b[0m \u001b[0;38;48m.\u001b[0m  ┌─────────────┐ │\n",
      "07│                \u001b[0;38;48m.\u001b[0m   \u001b[0;38;48mM\u001b[0m\u001b[0;38;48my\u001b[0m\u001b[0;38;48m \u001b[0m\u001b[0;38;48mN\u001b[0m\u001b[0;38;48ma\u001b[0m\u001b[0;38;48mm\u001b[0m\u001b[0;38;48me\u001b[0m\u001b[0;38;48m \u001b[0m\u001b[0;38;48mI\u001b[0m\u001b[0;38;48ms\u001b[0m \u001b[0;38;48m.\u001b[0m  │    ┌─────┐  │ │\n",
      "06│               \u001b[0;38;48m.\u001b[0m    \u001b[0;38;48mS\u001b[0m\u001b[0;38;48ml\u001b[0m\u001b[0;38;48mi\u001b[0m\u001b[0;38;48mm\u001b[0m\u001b[0;38;48m \u001b[0m\u001b[0;38;48mS\u001b[0m\u001b[0;38;48mh\u001b[0m\u001b[0;38;48ma\u001b[0m\u001b[0;38;48md\u001b[0m\u001b[0;38;48my\u001b[0m \u001b[0;38;48m.\u001b[0m  │    │     │  │ │\n",
      "05│     \u001b[0;38;48mT\u001b[0m\u001b[0;38;48mE\u001b[0m\u001b[0;38;48mS\u001b[0m\u001b[0;38;48mT\u001b[0m     \u001b[0;38;48m.\u001b[0m                \u001b[0;38;48m.\u001b[0m  │   \u001b[0;38;48m─\u001b[0m│\u001b[0;38;48m─\u001b[0m\u001b[0;38;48m─\u001b[0m\u001b[0;38;48m─\u001b[0m\u001b[0;38;48m─\u001b[0m\u001b[0;38;48m─\u001b[0m│  │ │\n",
      "04│                          \u001b[0;38;48m│\u001b[0m    \u001b[0;38;48m.\u001b[0m  │    │     │  │ │\n",
      "03│                          \u001b[0;38;48m│\u001b[0m    \u001b[0;38;48m.\u001b[0m  │    └─────┘  │ │\n",
      "02│     \u001b[0;38;48mH\u001b[0m\u001b[0;38;48me\u001b[0m\u001b[0;38;48ml\u001b[0m\u001b[0;38;48ml\u001b[0m\u001b[0;38;48mo\u001b[0m\u001b[0;38;48m \u001b[0m\u001b[0;38;48mW\u001b[0m\u001b[0;38;48mo\u001b[0m\u001b[0;38;48mr\u001b[0m\u001b[0;38;48ml\u001b[0m\u001b[0;38;48md\u001b[0m\u001b[0;38;48m.\u001b[0m         \u001b[0;38;48m│\u001b[0m    \u001b[0;38;48m.\u001b[0m  └─────────────┘ │\n",
      "01│                          \u001b[0;38;48m│\u001b[0m    \u001b[0;38;48m.\u001b[0m                  │\n",
      "00│                              \u001b[0;38;48m_\u001b[0m\u001b[0;38;48m_\u001b[0m\u001b[0;38;48m_\u001b[0m\u001b[0;38;48m_\u001b[0m\u001b[0;38;48m_\u001b[0m\u001b[0;38;48m_\u001b[0m\u001b[0;38;48m_\u001b[0m\u001b[0;38;48m_\u001b[0m\u001b[0;38;48m_\u001b[0m\u001b[0;38;48m_\u001b[0m          │\n",
      "  └──────────────────────────────────────────────────┘\n",
      "   01234567890123456789012345678901234567890123456789 \n",
      "   0         1         2         3         4          \n"
     ]
    }
   ],
   "source": [
    "txt2.align('right')\n",
    "cnv.show(True, True)"
   ]
  },
  {
   "cell_type": "markdown",
   "metadata": {},
   "source": [
    "# Formatters"
   ]
  },
  {
   "cell_type": "code",
   "execution_count": 30,
   "metadata": {},
   "outputs": [],
   "source": [
    "f0 = ch.Formatter()\n",
    "f1 = ch.Formatter()"
   ]
  },
  {
   "cell_type": "code",
   "execution_count": 31,
   "metadata": {},
   "outputs": [
    {
     "data": {
      "text/plain": [
       "\u001b[1;32;46mHello! I am Formatter 139895733242320\u001b[0m"
      ]
     },
     "execution_count": 31,
     "metadata": {},
     "output_type": "execute_result"
    }
   ],
   "source": [
    "f0.set_style.bold()\n",
    "f0.set_color.green()\n",
    "f0.set_background_color.cyan()\n",
    "f0"
   ]
  },
  {
   "cell_type": "code",
   "execution_count": 32,
   "metadata": {},
   "outputs": [
    {
     "data": {
      "text/plain": [
       "\u001b[0;31;48mHello! I am Formatter 139895733242256\u001b[0m"
      ]
     },
     "execution_count": 32,
     "metadata": {},
     "output_type": "execute_result"
    }
   ],
   "source": [
    "f1.set_color.red()\n",
    "f1"
   ]
  },
  {
   "cell_type": "code",
   "execution_count": 33,
   "metadata": {},
   "outputs": [
    {
     "name": "stdout",
     "output_type": "stream",
     "text": [
      "  ┌──────────────────────────────────────────────────┐\n",
      "10│                                                  │\n",
      "09│                  \u001b[0;38;48m.\u001b[0m\u001b[0;38;48m.\u001b[0m\u001b[0;38;48m.\u001b[0m\u001b[0;38;48m.\u001b[0m\u001b[0;38;48m.\u001b[0m\u001b[0;38;48m.\u001b[0m\u001b[0;38;48m.\u001b[0m\u001b[0;38;48m.\u001b[0m\u001b[0;38;48m.\u001b[0m\u001b[0;38;48m.\u001b[0m\u001b[0;38;48m.\u001b[0m\u001b[0;38;48m.\u001b[0m\u001b[0;38;48m.\u001b[0m                   │\n",
      "08│        \u001b[0;38;48m.\u001b[0m        \u001b[0;38;48m.\u001b[0m         \u001b[1;32;46mH\u001b[0m\u001b[1;32;46mi\u001b[0m\u001b[1;32;46m!\u001b[0m \u001b[0;38;48m.\u001b[0m  ┌─────────────┐ │\n",
      "07│                \u001b[0;38;48m.\u001b[0m   \u001b[1;32;46mM\u001b[0m\u001b[1;32;46my\u001b[0m\u001b[1;32;46m \u001b[0m\u001b[1;32;46mN\u001b[0m\u001b[1;32;46ma\u001b[0m\u001b[1;32;46mm\u001b[0m\u001b[1;32;46me\u001b[0m\u001b[1;32;46m \u001b[0m\u001b[1;32;46mI\u001b[0m\u001b[1;32;46ms\u001b[0m \u001b[0;38;48m.\u001b[0m  │    ┌─────┐  │ │\n",
      "06│               \u001b[0;38;48m.\u001b[0m    \u001b[1;32;46mS\u001b[0m\u001b[1;32;46ml\u001b[0m\u001b[1;32;46mi\u001b[0m\u001b[1;32;46mm\u001b[0m\u001b[1;32;46m \u001b[0m\u001b[1;32;46mS\u001b[0m\u001b[1;32;46mh\u001b[0m\u001b[1;32;46ma\u001b[0m\u001b[1;32;46md\u001b[0m\u001b[1;32;46my\u001b[0m \u001b[0;38;48m.\u001b[0m  │    │     │  │ │\n",
      "05│     \u001b[0;38;48mT\u001b[0m\u001b[0;38;48mE\u001b[0m\u001b[0;38;48mS\u001b[0m\u001b[0;38;48mT\u001b[0m     \u001b[0;38;48m.\u001b[0m                \u001b[0;38;48m.\u001b[0m  │   \u001b[0;38;48m─\u001b[0m│\u001b[0;38;48m─\u001b[0m\u001b[0;38;48m─\u001b[0m\u001b[0;38;48m─\u001b[0m\u001b[0;38;48m─\u001b[0m\u001b[0;38;48m─\u001b[0m│  │ │\n",
      "04│                          \u001b[0;38;48m│\u001b[0m    \u001b[0;38;48m.\u001b[0m  │    │     │  │ │\n",
      "03│                          \u001b[0;38;48m│\u001b[0m    \u001b[0;38;48m.\u001b[0m  │    └─────┘  │ │\n",
      "02│     \u001b[0;31;48mH\u001b[0m\u001b[0;31;48me\u001b[0m\u001b[0;31;48ml\u001b[0m\u001b[0;31;48ml\u001b[0m\u001b[0;31;48mo\u001b[0m\u001b[0;31;48m \u001b[0m\u001b[0;31;48mW\u001b[0m\u001b[0;31;48mo\u001b[0m\u001b[0;31;48mr\u001b[0m\u001b[0;31;48ml\u001b[0m\u001b[0;31;48md\u001b[0m\u001b[0;31;48m.\u001b[0m         \u001b[0;38;48m│\u001b[0m    \u001b[0;38;48m.\u001b[0m  └─────────────┘ │\n",
      "01│                          \u001b[0;38;48m│\u001b[0m    \u001b[0;38;48m.\u001b[0m                  │\n",
      "00│                              \u001b[0;38;48m_\u001b[0m\u001b[0;38;48m_\u001b[0m\u001b[0;38;48m_\u001b[0m\u001b[0;38;48m_\u001b[0m\u001b[0;38;48m_\u001b[0m\u001b[0;38;48m_\u001b[0m\u001b[0;38;48m_\u001b[0m\u001b[0;38;48m_\u001b[0m\u001b[0;38;48m_\u001b[0m\u001b[0;38;48m_\u001b[0m          │\n",
      "  └──────────────────────────────────────────────────┘\n",
      "   01234567890123456789012345678901234567890123456789 \n",
      "   0         1         2         3         4          \n"
     ]
    }
   ],
   "source": [
    "txt0.format_text(f1)\n",
    "txt2.format_text(f0)\n",
    "cnv.show(True, True)"
   ]
  },
  {
   "cell_type": "code",
   "execution_count": 34,
   "metadata": {},
   "outputs": [
    {
     "name": "stdout",
     "output_type": "stream",
     "text": [
      "  ┌──────────────────────────────────────────────────┐\n",
      "10│                                                  │\n",
      "09│                  \u001b[0;38;48m.\u001b[0m\u001b[0;38;48m.\u001b[0m\u001b[0;38;48m.\u001b[0m\u001b[0;38;48m.\u001b[0m\u001b[0;38;48m.\u001b[0m\u001b[0;38;48m.\u001b[0m\u001b[0;38;48m.\u001b[0m\u001b[0;38;48m.\u001b[0m\u001b[0;38;48m.\u001b[0m\u001b[0;38;48m.\u001b[0m\u001b[0;38;48m.\u001b[0m\u001b[0;38;48m.\u001b[0m\u001b[0;38;48m.\u001b[0m                   │\n",
      "08│        \u001b[0;38;48m.\u001b[0m        \u001b[0;38;48m.\u001b[0m         \u001b[1;32;46mH\u001b[0m\u001b[1;32;46mi\u001b[0m\u001b[1;32;46m!\u001b[0m \u001b[0;38;48m.\u001b[0m  \u001b[0;31;48m┌\u001b[0m\u001b[0;31;48m─\u001b[0m\u001b[0;31;48m─\u001b[0m\u001b[0;31;48m─\u001b[0m\u001b[0;31;48m─\u001b[0m\u001b[0;31;48m─\u001b[0m\u001b[0;31;48m─\u001b[0m\u001b[0;31;48m─\u001b[0m\u001b[0;31;48m─\u001b[0m\u001b[0;31;48m─\u001b[0m\u001b[0;31;48m─\u001b[0m\u001b[0;31;48m─\u001b[0m\u001b[0;31;48m─\u001b[0m\u001b[0;31;48m─\u001b[0m\u001b[0;31;48m┐\u001b[0m │\n",
      "07│                \u001b[0;38;48m.\u001b[0m   \u001b[1;32;46mM\u001b[0m\u001b[1;32;46my\u001b[0m\u001b[1;32;46m \u001b[0m\u001b[1;32;46mN\u001b[0m\u001b[1;32;46ma\u001b[0m\u001b[1;32;46mm\u001b[0m\u001b[1;32;46me\u001b[0m\u001b[1;32;46m \u001b[0m\u001b[1;32;46mI\u001b[0m\u001b[1;32;46ms\u001b[0m \u001b[0;38;48m.\u001b[0m  \u001b[0;31;48m│\u001b[0m    ┌─────┐  \u001b[0;31;48m│\u001b[0m │\n",
      "06│               \u001b[0;38;48m.\u001b[0m    \u001b[1;32;46mS\u001b[0m\u001b[1;32;46ml\u001b[0m\u001b[1;32;46mi\u001b[0m\u001b[1;32;46mm\u001b[0m\u001b[1;32;46m \u001b[0m\u001b[1;32;46mS\u001b[0m\u001b[1;32;46mh\u001b[0m\u001b[1;32;46ma\u001b[0m\u001b[1;32;46md\u001b[0m\u001b[1;32;46my\u001b[0m \u001b[0;38;48m.\u001b[0m  \u001b[0;31;48m│\u001b[0m    │     │  \u001b[0;31;48m│\u001b[0m │\n",
      "05│     \u001b[0;38;48mT\u001b[0m\u001b[0;38;48mE\u001b[0m\u001b[0;38;48mS\u001b[0m\u001b[0;38;48mT\u001b[0m     \u001b[0;38;48m.\u001b[0m                \u001b[0;38;48m.\u001b[0m  \u001b[0;31;48m│\u001b[0m   \u001b[0;38;48m─\u001b[0m│\u001b[0;38;48m─\u001b[0m\u001b[0;38;48m─\u001b[0m\u001b[0;38;48m─\u001b[0m\u001b[0;38;48m─\u001b[0m\u001b[0;38;48m─\u001b[0m│  \u001b[0;31;48m│\u001b[0m │\n",
      "04│                          \u001b[0;38;48m│\u001b[0m    \u001b[0;38;48m.\u001b[0m  \u001b[0;31;48m│\u001b[0m    │     │  \u001b[0;31;48m│\u001b[0m │\n",
      "03│                          \u001b[0;38;48m│\u001b[0m    \u001b[0;38;48m.\u001b[0m  \u001b[0;31;48m│\u001b[0m    └─────┘  \u001b[0;31;48m│\u001b[0m │\n",
      "02│     \u001b[0;31;48mH\u001b[0m\u001b[0;31;48me\u001b[0m\u001b[0;31;48ml\u001b[0m\u001b[0;31;48ml\u001b[0m\u001b[0;31;48mo\u001b[0m\u001b[0;31;48m \u001b[0m\u001b[0;31;48mW\u001b[0m\u001b[0;31;48mo\u001b[0m\u001b[0;31;48mr\u001b[0m\u001b[0;31;48ml\u001b[0m\u001b[0;31;48md\u001b[0m\u001b[0;31;48m.\u001b[0m         \u001b[0;38;48m│\u001b[0m    \u001b[0;38;48m.\u001b[0m  \u001b[0;31;48m└\u001b[0m\u001b[0;31;48m─\u001b[0m\u001b[0;31;48m─\u001b[0m\u001b[0;31;48m─\u001b[0m\u001b[0;31;48m─\u001b[0m\u001b[0;31;48m─\u001b[0m\u001b[0;31;48m─\u001b[0m\u001b[0;31;48m─\u001b[0m\u001b[0;31;48m─\u001b[0m\u001b[0;31;48m─\u001b[0m\u001b[0;31;48m─\u001b[0m\u001b[0;31;48m─\u001b[0m\u001b[0;31;48m─\u001b[0m\u001b[0;31;48m─\u001b[0m\u001b[0;31;48m┘\u001b[0m │\n",
      "01│                          \u001b[0;38;48m│\u001b[0m    \u001b[0;38;48m.\u001b[0m                  │\n",
      "00│                              \u001b[0;38;48m_\u001b[0m\u001b[0;38;48m_\u001b[0m\u001b[0;38;48m_\u001b[0m\u001b[0;38;48m_\u001b[0m\u001b[0;38;48m_\u001b[0m\u001b[0;38;48m_\u001b[0m\u001b[0;38;48m_\u001b[0m\u001b[0;38;48m_\u001b[0m\u001b[0;38;48m_\u001b[0m\u001b[0;38;48m_\u001b[0m          │\n",
      "  └──────────────────────────────────────────────────┘\n",
      "   01234567890123456789012345678901234567890123456789 \n",
      "   0         1         2         3         4          \n"
     ]
    }
   ],
   "source": [
    "blk.set_frame_formatter(f1)\n",
    "cnv.show(True, True)"
   ]
  }
 ],
 "metadata": {
  "kernelspec": {
   "display_name": "Python 3",
   "language": "python",
   "name": "python3"
  },
  "language_info": {
   "codemirror_mode": {
    "name": "ipython",
    "version": 3
   },
   "file_extension": ".py",
   "mimetype": "text/x-python",
   "name": "python",
   "nbconvert_exporter": "python",
   "pygments_lexer": "ipython3",
   "version": "3.7.4"
  }
 },
 "nbformat": 4,
 "nbformat_minor": 4
}
